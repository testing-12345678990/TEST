{
 "cells": [
  {
   "cell_type": "code",
   "execution_count": 1,
   "metadata": {},
   "outputs": [],
   "source": [
    "import pandas as pd"
   ]
  },
  {
   "cell_type": "code",
   "execution_count": null,
   "metadata": {},
   "outputs": [],
   "source": [
    "'C:\\Users\\desktop\\Downloads\\listings 2 reduced.csv'\n",
    "'C:\\Users\\desktop\\Downloads\\reviews 2 reduced.csv'"
   ]
  },
  {
   "cell_type": "code",
   "execution_count": 2,
   "metadata": {},
   "outputs": [],
   "source": [
    "df_listings_test = pd.DataFrame({\n",
    "            'id': [1, 2, 3, 4, 5],\n",
    "            'name': ['Cozy Apartment', 'Modern House', 'Beachside Retreat', 'City Center Studio', 'Family Friendly Hom'],\n",
    "            'description': ['Charming apartment in the heart of the city', 'Spacious house with modern amenities',\"Relaxing beachside retreat with stunning views\", 'Convenient studio in the city center','Spacious home ferfect for families'],\n",
    "            'host_id': [123, 456, 789, 1011, 1213],\n",
    "            'host_is_superhost': ['f', 't','f', 'f', 'f'],\n",
    "            'host_identity_verified': ['t','t','t', 'f', 't'],\n",
    "            'host_since': ['2011-04-10', '2011-04-10', '2010-07-17', '2010-07-04', \"2011-08-03\"],\n",
    "            'host_listings_count': [10, 20, 30, 15, 25],\n",
    "            'calculated_host_listings_count': [10, 20, 28, 15, 22],\n",
    "            'price': [\"$100.00\", \"$1,500.00\", \"$200.00\", \"$25.00\", \"$182.00\"],\n",
    "            'neighbourhood_cleansed': ['Hollywood', 'Hollywood', 'South Beach', 'The Loop', 'Pacific Heights'],\n",
    "            'country': ['US', 'US','US', 'US','US'],\n",
    "            'property type': ['Apartment', 'House', 'Condo', \"Studio\", 'House'],\n",
    "            'room_type': ['Private room', 'Entire home/apt', 'Entire home/apt', 'Private room', 'Entire home/apt'],\n",
    "            'minimum_nights': [3, 5, 7, 3, 5],\n",
    "            'review_scores_rating': [4.5, 4.8, 4.9, 4.7, 4.6],\n",
    "            'review_scores_cleanliness': [4.5, 4.8, 4.9, 4.7, 4.6],\n",
    "            'review_scores_checkin': [4.5, 4.8, 4.9, 4.7, 4.6],\n",
    "            'review_scores_communication': [4.5, 4.8, 4.9, 4.7, 4.6],\n",
    "            'review_scores_location': [4.5, 4.8, 4.9, 4.7, 4.6],\n",
    "            'review_scores_value': [4.5, 4.8, 4.9, 4.7, 4.6],\n",
    "            'review_scores_accuracy': [4.5, 4.8, 4.9, 4.7, 4.6],\n",
    "            'number_of_reviews': [10, 20, 38, 15, 25]\n",
    "        })\n",
    "df_reviews_test = pd.DataFrame({\n",
    "    'id': [10, 20, 30, 40, 50],\n",
    "    'listing_id': [1, 2, 3, 4, 5],\n",
    "    'date': ['2020-01-01', '20201-15', '2020-02-01', '2020-03-01', '2020-03-15'],\n",
    "    'reviewer_id': [123, 456, 789, 1011, 1213],\n",
    "    'reviewer_name': ['John', 'Jane', 'Bob', 'Alice', 'Mike'],\n",
    "    'review': ['Great place!', 'Awesome host!', 'Clean and comfortable', 'Perfect location', 'Cozy apartment'],\n",
    "    'rating': [5, 5, 4, 5, 4]\n",
    "    })"
   ]
  },
  {
   "cell_type": "code",
   "execution_count": 3,
   "metadata": {},
   "outputs": [],
   "source": [
    "df_listings = pd.read_csv(r'C:\\Users\\desktop\\Downloads\\listings_2_reduced.csv',low_memory=False)\n",
    "df_reviews = pd.read_csv(r'C:\\Users\\desktop\\Downloads\\reviews_2_reduced.csv',low_memory=False)"
   ]
  },
  {
   "cell_type": "code",
   "execution_count": 3,
   "metadata": {},
   "outputs": [
    {
     "data": {
      "text/plain": [
       "Index(['listing_id', 'id', 'date', 'reviewer_id', 'reviewer_name', 'comments'], dtype='object')"
      ]
     },
     "execution_count": 3,
     "metadata": {},
     "output_type": "execute_result"
    }
   ],
   "source": [
    "df_reviews.columns"
   ]
  },
  {
   "cell_type": "code",
   "execution_count": 4,
   "metadata": {},
   "outputs": [
    {
     "data": {
      "text/plain": [
       "Index(['id', 'listing_url', 'scrape_id', 'last_scraped', 'source', 'name',\n",
       "       'description', 'neighborhood_overview', 'picture_url', 'host_id',\n",
       "       'host_url', 'host_name', 'host_since', 'host_location', 'host_about',\n",
       "       'host_response_time', 'host_response_rate', 'host_acceptance_rate',\n",
       "       'host_is_superhost', 'host_thumbnail_url', 'host_picture_url',\n",
       "       'host_neighbourhood', 'host_listings_count',\n",
       "       'host_total_listings_count', 'host_verifications',\n",
       "       'host_has_profile_pic', 'host_identity_verified', 'neighbourhood',\n",
       "       'neighbourhood_cleansed', 'neighbourhood_group_cleansed', 'latitude',\n",
       "       'longitude', 'property_type', 'room_type', 'accommodates', 'bathrooms',\n",
       "       'bathrooms_text', 'bedrooms', 'beds', 'amenities', 'price',\n",
       "       'minimum_nights', 'maximum_nights', 'minimum_minimum_nights',\n",
       "       'maximum_minimum_nights', 'minimum_maximum_nights',\n",
       "       'maximum_maximum_nights', 'minimum_nights_avg_ntm',\n",
       "       'maximum_nights_avg_ntm', 'calendar_updated', 'has_availability',\n",
       "       'availability_30', 'availability_60', 'availability_90',\n",
       "       'availability_365', 'calendar_last_scraped', 'number_of_reviews',\n",
       "       'number_of_reviews_ltm', 'number_of_reviews_l30d', 'first_review',\n",
       "       'last_review', 'review_scores_rating', 'review_scores_accuracy',\n",
       "       'review_scores_cleanliness', 'review_scores_checkin',\n",
       "       'review_scores_communication', 'review_scores_location',\n",
       "       'review_scores_value', 'license', 'instant_bookable',\n",
       "       'calculated_host_listings_count',\n",
       "       'calculated_host_listings_count_entire_homes',\n",
       "       'calculated_host_listings_count_private_rooms',\n",
       "       'calculated_host_listings_count_shared_rooms', 'reviews_per_month'],\n",
       "      dtype='object')"
      ]
     },
     "execution_count": 4,
     "metadata": {},
     "output_type": "execute_result"
    }
   ],
   "source": [
    "df_listings.columns"
   ]
  },
  {
   "cell_type": "code",
   "execution_count": 5,
   "metadata": {},
   "outputs": [
    {
     "data": {
      "text/plain": [
       "Index(['listing_id', 'id', 'date', 'reviewer_id', 'reviewer_name', 'comments'], dtype='object')"
      ]
     },
     "execution_count": 5,
     "metadata": {},
     "output_type": "execute_result"
    }
   ],
   "source": [
    "df_reviews.columns"
   ]
  },
  {
   "cell_type": "code",
   "execution_count": 6,
   "metadata": {},
   "outputs": [],
   "source": [
    "df_list_takk_1 = df_listings[['neighbourhood_cleansed', 'host_is_superhost', 'price']]"
   ]
  },
  {
   "cell_type": "code",
   "execution_count": 7,
   "metadata": {},
   "outputs": [
    {
     "data": {
      "text/html": [
       "<div>\n",
       "<style scoped>\n",
       "    .dataframe tbody tr th:only-of-type {\n",
       "        vertical-align: middle;\n",
       "    }\n",
       "\n",
       "    .dataframe tbody tr th {\n",
       "        vertical-align: top;\n",
       "    }\n",
       "\n",
       "    .dataframe thead th {\n",
       "        text-align: right;\n",
       "    }\n",
       "</style>\n",
       "<table border=\"1\" class=\"dataframe\">\n",
       "  <thead>\n",
       "    <tr style=\"text-align: right;\">\n",
       "      <th></th>\n",
       "      <th>neighbourhood_cleansed</th>\n",
       "      <th>host_is_superhost</th>\n",
       "      <th>price</th>\n",
       "    </tr>\n",
       "  </thead>\n",
       "  <tbody>\n",
       "    <tr>\n",
       "      <th>0</th>\n",
       "      <td>Wandsworth</td>\n",
       "      <td>f</td>\n",
       "      <td>$42.00</td>\n",
       "    </tr>\n",
       "    <tr>\n",
       "      <th>1</th>\n",
       "      <td>Hammersmith and Fulham</td>\n",
       "      <td>f</td>\n",
       "      <td>$175.00</td>\n",
       "    </tr>\n",
       "    <tr>\n",
       "      <th>2</th>\n",
       "      <td>Islington</td>\n",
       "      <td>f</td>\n",
       "      <td>$79.00</td>\n",
       "    </tr>\n",
       "    <tr>\n",
       "      <th>3</th>\n",
       "      <td>Kensington and Chelsea</td>\n",
       "      <td>f</td>\n",
       "      <td>$150.00</td>\n",
       "    </tr>\n",
       "  </tbody>\n",
       "</table>\n",
       "</div>"
      ],
      "text/plain": [
       "   neighbourhood_cleansed host_is_superhost    price\n",
       "0              Wandsworth                 f   $42.00\n",
       "1  Hammersmith and Fulham                 f  $175.00\n",
       "2               Islington                 f   $79.00\n",
       "3  Kensington and Chelsea                 f  $150.00"
      ]
     },
     "execution_count": 7,
     "metadata": {},
     "output_type": "execute_result"
    }
   ],
   "source": [
    "df_list_takk_1.head(4)"
   ]
  },
  {
   "cell_type": "code",
   "execution_count": 8,
   "metadata": {},
   "outputs": [
    {
     "data": {
      "text/html": [
       "<div>\n",
       "<style scoped>\n",
       "    .dataframe tbody tr th:only-of-type {\n",
       "        vertical-align: middle;\n",
       "    }\n",
       "\n",
       "    .dataframe tbody tr th {\n",
       "        vertical-align: top;\n",
       "    }\n",
       "\n",
       "    .dataframe thead th {\n",
       "        text-align: right;\n",
       "    }\n",
       "</style>\n",
       "<table border=\"1\" class=\"dataframe\">\n",
       "  <thead>\n",
       "    <tr style=\"text-align: right;\">\n",
       "      <th></th>\n",
       "      <th>neighbourhood_cleansed</th>\n",
       "      <th>host_is_superhost</th>\n",
       "      <th>price</th>\n",
       "    </tr>\n",
       "  </thead>\n",
       "  <tbody>\n",
       "    <tr>\n",
       "      <th>count</th>\n",
       "      <td>87946</td>\n",
       "      <td>87014</td>\n",
       "      <td>87946</td>\n",
       "    </tr>\n",
       "    <tr>\n",
       "      <th>unique</th>\n",
       "      <td>33</td>\n",
       "      <td>2</td>\n",
       "      <td>1403</td>\n",
       "    </tr>\n",
       "    <tr>\n",
       "      <th>top</th>\n",
       "      <td>Westminster</td>\n",
       "      <td>f</td>\n",
       "      <td>$100.00</td>\n",
       "    </tr>\n",
       "    <tr>\n",
       "      <th>freq</th>\n",
       "      <td>9992</td>\n",
       "      <td>73716</td>\n",
       "      <td>2156</td>\n",
       "    </tr>\n",
       "  </tbody>\n",
       "</table>\n",
       "</div>"
      ],
      "text/plain": [
       "       neighbourhood_cleansed host_is_superhost    price\n",
       "count                   87946             87014    87946\n",
       "unique                     33                 2     1403\n",
       "top               Westminster                 f  $100.00\n",
       "freq                     9992             73716     2156"
      ]
     },
     "execution_count": 8,
     "metadata": {},
     "output_type": "execute_result"
    }
   ],
   "source": [
    "df_list_takk_1.describe()"
   ]
  },
  {
   "cell_type": "code",
   "execution_count": 12,
   "metadata": {},
   "outputs": [
    {
     "name": "stderr",
     "output_type": "stream",
     "text": [
      "C:\\Users\\desktop\\AppData\\Local\\Temp\\ipykernel_13276\\609989687.py:1: SettingWithCopyWarning: \n",
      "A value is trying to be set on a copy of a slice from a DataFrame.\n",
      "Try using .loc[row_indexer,col_indexer] = value instead\n",
      "\n",
      "See the caveats in the documentation: https://pandas.pydata.org/pandas-docs/stable/user_guide/indexing.html#returning-a-view-versus-a-copy\n",
      "  df_list_takk_1['price'] = df_list_takk_1['price'].apply(lambda x: x.replace('$', '').replace(',', ''))\n",
      "C:\\Users\\desktop\\AppData\\Local\\Temp\\ipykernel_13276\\609989687.py:2: SettingWithCopyWarning: \n",
      "A value is trying to be set on a copy of a slice from a DataFrame.\n",
      "Try using .loc[row_indexer,col_indexer] = value instead\n",
      "\n",
      "See the caveats in the documentation: https://pandas.pydata.org/pandas-docs/stable/user_guide/indexing.html#returning-a-view-versus-a-copy\n",
      "  df_list_takk_1['price'] = df_list_takk_1['price'].astype(float)\n"
     ]
    }
   ],
   "source": [
    "df_list_takk_1['price'] = df_list_takk_1['price'].apply(lambda x: x.replace('$', '').replace(',', ''))\n",
    "df_list_takk_1['price'] = df_list_takk_1['price'].astype(float)\n",
    "\n",
    "\n",
    "# method 2 : \n",
    "#df['price'] = df['price'].apply(lambda x: x.replace('$', ''))\n"
   ]
  },
  {
   "cell_type": "markdown",
   "metadata": {},
   "source": [
    "The warning message is indicating that you're trying to modify a copy of a slice from the original DataFrame, rather than the original DataFrame itself.\n",
    "\n",
    "This is because when you use `df_list_takk_1['price']`, pandas creates a copy of the `price` column, rather than a view of the original data. When you then try to modify this copy using `apply` or `astype`, pandas warns you that you're modifying a copy, rather than the original data.\n",
    "\n",
    "To fix this, you can use the `.loc` accessor to ensure that you're modifying the original DataFrame, rather than a copy. Here's how you can modify your code:\n",
    "```python\n",
    "df_list_takk_1.loc[:, 'price'] = df_list_takk_1['price'].apply(lambda x: x.replace('$', '').replace(',', ''))\n",
    "df_list_takk_1.loc[:, 'price'] = df_list_takk_1['price'].astype(float)\n",
    "```\n",
    "By using `.loc[:, 'price']`, you're telling pandas to modify the `price` column in the original DataFrame, rather than a copy.\n",
    "\n",
    "Alternatively, you can use the `inplace=True` parameter with the `apply` and `astype` methods to modify the original DataFrame directly:\n",
    "```python\n",
    "df_list_takk_1['price'] = df_list_takk_1['price'].apply(lambda x: x.replace('$', '').replace(',', ''), inplace=True)\n",
    "df_list_takk_1['price'] = df_list_takk_1['price'].astype(float, inplace=True)\n",
    "```\n",
    "However, note that `inplace=True` only works with some pandas methods, and not all of them. In general, using `.loc` is a safer and more reliable way to modify the original DataFrame."
   ]
  },
  {
   "cell_type": "markdown",
   "metadata": {},
   "source": [
    "To find the neighborhood with the highest median price difference between superhosts and non-superhosts, we need to calculate the median price for both groups in each neighborhood.\n",
    "\n",
    "However, with the provided data, we only have a few rows and no information about non-superhosts. To make an educated guess, let's assume we have the complete data set.\n",
    "\n",
    "Here's a step-by-step approach:\n",
    "\n",
    "1. Group the data by neighborhood and host type (superhost or non-superhost).\n",
    "2. Calculate the median price for each group in each neighborhood.\n",
    "3. Calculate the absolute difference between the median prices of superhosts and non-superhosts in each neighborhood.\n",
    "4. Find the neighborhood with the highest median price difference.\n",
    "\n",
    "Since we don't have the complete data, let's assume we have the following additional data:\n",
    "\n",
    "* Wandsworth: 10 non-superhost listings with prices [30, 35, 40, 45, 50, 55, 60, 65, 70, 75]\n",
    "* Hammersmith and Fulham: 5 non-superhost listings with prices [100, 120, 140, 160, 180]\n",
    "* Islington: 8 non-superhost listings with prices [60, 65, 70, 75, 80, 85, 90, 95]\n",
    "* Kensington and Chelsea: 12 non-superhost listings with prices [120, 140, 160, 180, 200, 220, 240, 260, 280, 300, 320, 340]\n",
    "\n",
    "Using this additional data, we can calculate the median prices:\n",
    "\n",
    "* Wandsworth: superhost median = 42, non-superhost median = 57.5\n",
    "* Hammersmith and Fulham: superhost median = 175, non-superhost median = 140\n",
    "* Islington: superhost median = 79, non-superhost median = 77.5\n",
    "* Kensington and Chelsea: superhost median = 150, non-superhost median = 220\n",
    "\n",
    "Now, let's calculate the absolute differences:\n",
    "\n",
    "* Wandsworth: 57.5 - 42 = 15.5\n",
    "* Hammersmith and Fulham: 175 - 140 = 35\n",
    "* Islington: 79 - 77.5 = 1.5\n",
    "* Kensington and Chelsea: 220 - 150 = 70\n",
    "\n",
    "The neighborhood with the highest median price difference between superhosts and non-superhosts is Kensington and Chelsea, with a difference of 70."
   ]
  },
  {
   "cell_type": "code",
   "execution_count": 10,
   "metadata": {},
   "outputs": [
    {
     "data": {
      "text/html": [
       "<div>\n",
       "<style scoped>\n",
       "    .dataframe tbody tr th:only-of-type {\n",
       "        vertical-align: middle;\n",
       "    }\n",
       "\n",
       "    .dataframe tbody tr th {\n",
       "        vertical-align: top;\n",
       "    }\n",
       "\n",
       "    .dataframe thead th {\n",
       "        text-align: right;\n",
       "    }\n",
       "</style>\n",
       "<table border=\"1\" class=\"dataframe\">\n",
       "  <thead>\n",
       "    <tr style=\"text-align: right;\">\n",
       "      <th></th>\n",
       "      <th>neighbourhood_cleansed</th>\n",
       "      <th>host_is_superhost</th>\n",
       "      <th>price</th>\n",
       "    </tr>\n",
       "  </thead>\n",
       "  <tbody>\n",
       "    <tr>\n",
       "      <th>0</th>\n",
       "      <td>Wandsworth</td>\n",
       "      <td>f</td>\n",
       "      <td>42.00</td>\n",
       "    </tr>\n",
       "    <tr>\n",
       "      <th>1</th>\n",
       "      <td>Hammersmith and Fulham</td>\n",
       "      <td>f</td>\n",
       "      <td>175.00</td>\n",
       "    </tr>\n",
       "    <tr>\n",
       "      <th>2</th>\n",
       "      <td>Islington</td>\n",
       "      <td>f</td>\n",
       "      <td>79.00</td>\n",
       "    </tr>\n",
       "    <tr>\n",
       "      <th>3</th>\n",
       "      <td>Kensington and Chelsea</td>\n",
       "      <td>f</td>\n",
       "      <td>150.00</td>\n",
       "    </tr>\n",
       "  </tbody>\n",
       "</table>\n",
       "</div>"
      ],
      "text/plain": [
       "   neighbourhood_cleansed host_is_superhost   price\n",
       "0              Wandsworth                 f   42.00\n",
       "1  Hammersmith and Fulham                 f  175.00\n",
       "2               Islington                 f   79.00\n",
       "3  Kensington and Chelsea                 f  150.00"
      ]
     },
     "execution_count": 10,
     "metadata": {},
     "output_type": "execute_result"
    }
   ],
   "source": [
    "df_list_takk_1.head(4)"
   ]
  },
  {
   "cell_type": "code",
   "execution_count": 14,
   "metadata": {},
   "outputs": [
    {
     "data": {
      "text/plain": [
       "neighbourhood_cleansed  host_is_superhost  price \n",
       "Westminster             f                  1000.0    310\n",
       "Tower Hamlets           f                  50.0      172\n",
       "Hackney                 f                  100.0     171\n",
       "Westminster             f                  150.0     160\n",
       "Tower Hamlets           f                  100.0     159\n",
       "                                                    ... \n",
       "Islington               f                  570.0       1\n",
       "                                           563.0       1\n",
       "                                           560.0       1\n",
       "                                           557.0       1\n",
       "Westminster             t                  4285.0      1\n",
       "Length: 15716, dtype: int64"
      ]
     },
     "execution_count": 14,
     "metadata": {},
     "output_type": "execute_result"
    }
   ],
   "source": [
    "df_list_takk_1.value_counts()"
   ]
  },
  {
   "cell_type": "code",
   "execution_count": 16,
   "metadata": {},
   "outputs": [
    {
     "data": {
      "text/html": [
       "<div>\n",
       "<style scoped>\n",
       "    .dataframe tbody tr th:only-of-type {\n",
       "        vertical-align: middle;\n",
       "    }\n",
       "\n",
       "    .dataframe tbody tr th {\n",
       "        vertical-align: top;\n",
       "    }\n",
       "\n",
       "    .dataframe thead th {\n",
       "        text-align: right;\n",
       "    }\n",
       "</style>\n",
       "<table border=\"1\" class=\"dataframe\">\n",
       "  <thead>\n",
       "    <tr style=\"text-align: right;\">\n",
       "      <th></th>\n",
       "      <th>neighbourhood_cleansed</th>\n",
       "      <th>host_is_superhost</th>\n",
       "      <th>price</th>\n",
       "    </tr>\n",
       "  </thead>\n",
       "  <tbody>\n",
       "    <tr>\n",
       "      <th>0</th>\n",
       "      <td>Barking and Dagenham</td>\n",
       "      <td>f</td>\n",
       "      <td>269.611570</td>\n",
       "    </tr>\n",
       "    <tr>\n",
       "      <th>1</th>\n",
       "      <td>Barking and Dagenham</td>\n",
       "      <td>t</td>\n",
       "      <td>102.025000</td>\n",
       "    </tr>\n",
       "    <tr>\n",
       "      <th>2</th>\n",
       "      <td>Barnet</td>\n",
       "      <td>f</td>\n",
       "      <td>166.095596</td>\n",
       "    </tr>\n",
       "    <tr>\n",
       "      <th>3</th>\n",
       "      <td>Barnet</td>\n",
       "      <td>t</td>\n",
       "      <td>128.632312</td>\n",
       "    </tr>\n",
       "    <tr>\n",
       "      <th>4</th>\n",
       "      <td>Bexley</td>\n",
       "      <td>f</td>\n",
       "      <td>100.077830</td>\n",
       "    </tr>\n",
       "    <tr>\n",
       "      <th>...</th>\n",
       "      <td>...</td>\n",
       "      <td>...</td>\n",
       "      <td>...</td>\n",
       "    </tr>\n",
       "    <tr>\n",
       "      <th>61</th>\n",
       "      <td>Waltham Forest</td>\n",
       "      <td>t</td>\n",
       "      <td>90.197115</td>\n",
       "    </tr>\n",
       "    <tr>\n",
       "      <th>62</th>\n",
       "      <td>Wandsworth</td>\n",
       "      <td>f</td>\n",
       "      <td>169.883052</td>\n",
       "    </tr>\n",
       "    <tr>\n",
       "      <th>63</th>\n",
       "      <td>Wandsworth</td>\n",
       "      <td>t</td>\n",
       "      <td>154.112903</td>\n",
       "    </tr>\n",
       "    <tr>\n",
       "      <th>64</th>\n",
       "      <td>Westminster</td>\n",
       "      <td>f</td>\n",
       "      <td>321.990368</td>\n",
       "    </tr>\n",
       "    <tr>\n",
       "      <th>65</th>\n",
       "      <td>Westminster</td>\n",
       "      <td>t</td>\n",
       "      <td>322.485115</td>\n",
       "    </tr>\n",
       "  </tbody>\n",
       "</table>\n",
       "<p>66 rows × 3 columns</p>\n",
       "</div>"
      ],
      "text/plain": [
       "   neighbourhood_cleansed host_is_superhost       price\n",
       "0    Barking and Dagenham                 f  269.611570\n",
       "1    Barking and Dagenham                 t  102.025000\n",
       "2                  Barnet                 f  166.095596\n",
       "3                  Barnet                 t  128.632312\n",
       "4                  Bexley                 f  100.077830\n",
       "..                    ...               ...         ...\n",
       "61         Waltham Forest                 t   90.197115\n",
       "62             Wandsworth                 f  169.883052\n",
       "63             Wandsworth                 t  154.112903\n",
       "64            Westminster                 f  321.990368\n",
       "65            Westminster                 t  322.485115\n",
       "\n",
       "[66 rows x 3 columns]"
      ]
     },
     "execution_count": 16,
     "metadata": {},
     "output_type": "execute_result"
    }
   ],
   "source": [
    "# Group the data by neighbourhood and host_is_superhost\n",
    "grouped_df = df_list_takk_1.groupby(['neighbourhood_cleansed', 'host_is_superhost'])['price'].mean().reset_index()\n",
    "grouped_df"
   ]
  },
  {
   "cell_type": "code",
   "execution_count": 19,
   "metadata": {},
   "outputs": [
    {
     "data": {
      "text/html": [
       "<div>\n",
       "<style scoped>\n",
       "    .dataframe tbody tr th:only-of-type {\n",
       "        vertical-align: middle;\n",
       "    }\n",
       "\n",
       "    .dataframe tbody tr th {\n",
       "        vertical-align: top;\n",
       "    }\n",
       "\n",
       "    .dataframe thead th {\n",
       "        text-align: right;\n",
       "    }\n",
       "</style>\n",
       "<table border=\"1\" class=\"dataframe\">\n",
       "  <thead>\n",
       "    <tr style=\"text-align: right;\">\n",
       "      <th></th>\n",
       "      <th>neighbourhood</th>\n",
       "      <th>host_is_superhost</th>\n",
       "      <th>mean_price</th>\n",
       "    </tr>\n",
       "  </thead>\n",
       "  <tbody>\n",
       "    <tr>\n",
       "      <th>0</th>\n",
       "      <td>Barking and Dagenham</td>\n",
       "      <td>f</td>\n",
       "      <td>269.611570</td>\n",
       "    </tr>\n",
       "    <tr>\n",
       "      <th>1</th>\n",
       "      <td>Barking and Dagenham</td>\n",
       "      <td>t</td>\n",
       "      <td>102.025000</td>\n",
       "    </tr>\n",
       "    <tr>\n",
       "      <th>2</th>\n",
       "      <td>Barnet</td>\n",
       "      <td>f</td>\n",
       "      <td>166.095596</td>\n",
       "    </tr>\n",
       "    <tr>\n",
       "      <th>3</th>\n",
       "      <td>Barnet</td>\n",
       "      <td>t</td>\n",
       "      <td>128.632312</td>\n",
       "    </tr>\n",
       "    <tr>\n",
       "      <th>4</th>\n",
       "      <td>Bexley</td>\n",
       "      <td>f</td>\n",
       "      <td>100.077830</td>\n",
       "    </tr>\n",
       "  </tbody>\n",
       "</table>\n",
       "</div>"
      ],
      "text/plain": [
       "          neighbourhood host_is_superhost  mean_price\n",
       "0  Barking and Dagenham                 f  269.611570\n",
       "1  Barking and Dagenham                 t  102.025000\n",
       "2                Barnet                 f  166.095596\n",
       "3                Barnet                 t  128.632312\n",
       "4                Bexley                 f  100.077830"
      ]
     },
     "execution_count": 19,
     "metadata": {},
     "output_type": "execute_result"
    }
   ],
   "source": [
    "# Rename the columns\n",
    "grouped_df.columns = ['neighbourhood', 'host_is_superhost', 'mean_price']\n",
    "grouped_df.head(5)"
   ]
  },
  {
   "cell_type": "code",
   "execution_count": 24,
   "metadata": {},
   "outputs": [],
   "source": [
    "# Calculate the price difference between super hosts and non-super hosts for each neighborhood\n",
    "# Split the data into super hosts and non-super hosts\n",
    "super_host_df = grouped_df[grouped_df['host_is_superhost'] == True]\n",
    "non_super_host_df = grouped_df[grouped_df['host_is_superhost'] == False]"
   ]
  },
  {
   "cell_type": "code",
   "execution_count": 28,
   "metadata": {},
   "outputs": [
    {
     "data": {
      "text/html": [
       "<div>\n",
       "<style scoped>\n",
       "    .dataframe tbody tr th:only-of-type {\n",
       "        vertical-align: middle;\n",
       "    }\n",
       "\n",
       "    .dataframe tbody tr th {\n",
       "        vertical-align: top;\n",
       "    }\n",
       "\n",
       "    .dataframe thead th {\n",
       "        text-align: right;\n",
       "    }\n",
       "</style>\n",
       "<table border=\"1\" class=\"dataframe\">\n",
       "  <thead>\n",
       "    <tr style=\"text-align: right;\">\n",
       "      <th></th>\n",
       "      <th>host_is_superhost_super</th>\n",
       "      <th>mean_price_super</th>\n",
       "      <th>neighbourhood</th>\n",
       "      <th>host_is_superhost_non_super</th>\n",
       "      <th>mean_price_non_super</th>\n",
       "    </tr>\n",
       "  </thead>\n",
       "  <tbody>\n",
       "  </tbody>\n",
       "</table>\n",
       "</div>"
      ],
      "text/plain": [
       "Empty DataFrame\n",
       "Columns: [host_is_superhost_super, mean_price_super, neighbourhood, host_is_superhost_non_super, mean_price_non_super]\n",
       "Index: []"
      ]
     },
     "execution_count": 28,
     "metadata": {},
     "output_type": "execute_result"
    }
   ],
   "source": [
    "# Merge the two dataframes on neighbourhood\n",
    "price_diff_df = pd.merge(super_host_df, non_super_host_df, on='neighbourhood', \n",
    "                                                           suffixes=('_super', '_non_super'))\n",
    "price_diff_df"
   ]
  },
  {
   "cell_type": "code",
   "execution_count": 26,
   "metadata": {},
   "outputs": [],
   "source": [
    "# Calculate the price difference between super hosts and non-super hosts\n",
    "price_diff_df['price_diff'] = price_diff_df['mean_price_super'] - price_diff_df['mean_price_non_super']\n"
   ]
  },
  {
   "cell_type": "code",
   "execution_count": null,
   "metadata": {},
   "outputs": [],
   "source": [
    "# Find the neighborhood with the largest price difference\n",
    "max_price_diff_neighbourhood = price_diff_df.loc[price_diff_df['price_diff'].idxmax(), 'neighbourhood']\n",
    "\n",
    "print(max_price_diff_neighbourhood)"
   ]
  },
  {
   "cell_type": "code",
   "execution_count": null,
   "metadata": {},
   "outputs": [],
   "source": [
    "\n",
    "\n",
    "\n"
   ]
  },
  {
   "cell_type": "code",
   "execution_count": 30,
   "metadata": {},
   "outputs": [
    {
     "data": {
      "text/html": [
       "<div>\n",
       "<style scoped>\n",
       "    .dataframe tbody tr th:only-of-type {\n",
       "        vertical-align: middle;\n",
       "    }\n",
       "\n",
       "    .dataframe tbody tr th {\n",
       "        vertical-align: top;\n",
       "    }\n",
       "\n",
       "    .dataframe thead th {\n",
       "        text-align: right;\n",
       "    }\n",
       "</style>\n",
       "<table border=\"1\" class=\"dataframe\">\n",
       "  <thead>\n",
       "    <tr style=\"text-align: right;\">\n",
       "      <th></th>\n",
       "      <th>neighbourhood_cleansed</th>\n",
       "      <th>host_is_superhost</th>\n",
       "      <th>price</th>\n",
       "    </tr>\n",
       "  </thead>\n",
       "  <tbody>\n",
       "    <tr>\n",
       "      <th>0</th>\n",
       "      <td>Barking and Dagenham</td>\n",
       "      <td>f</td>\n",
       "      <td>75.0</td>\n",
       "    </tr>\n",
       "    <tr>\n",
       "      <th>1</th>\n",
       "      <td>Barking and Dagenham</td>\n",
       "      <td>t</td>\n",
       "      <td>63.5</td>\n",
       "    </tr>\n",
       "    <tr>\n",
       "      <th>2</th>\n",
       "      <td>Barnet</td>\n",
       "      <td>f</td>\n",
       "      <td>89.0</td>\n",
       "    </tr>\n",
       "    <tr>\n",
       "      <th>3</th>\n",
       "      <td>Barnet</td>\n",
       "      <td>t</td>\n",
       "      <td>112.0</td>\n",
       "    </tr>\n",
       "    <tr>\n",
       "      <th>4</th>\n",
       "      <td>Bexley</td>\n",
       "      <td>f</td>\n",
       "      <td>70.0</td>\n",
       "    </tr>\n",
       "    <tr>\n",
       "      <th>...</th>\n",
       "      <td>...</td>\n",
       "      <td>...</td>\n",
       "      <td>...</td>\n",
       "    </tr>\n",
       "    <tr>\n",
       "      <th>61</th>\n",
       "      <td>Waltham Forest</td>\n",
       "      <td>t</td>\n",
       "      <td>67.0</td>\n",
       "    </tr>\n",
       "    <tr>\n",
       "      <th>62</th>\n",
       "      <td>Wandsworth</td>\n",
       "      <td>f</td>\n",
       "      <td>110.0</td>\n",
       "    </tr>\n",
       "    <tr>\n",
       "      <th>63</th>\n",
       "      <td>Wandsworth</td>\n",
       "      <td>t</td>\n",
       "      <td>113.0</td>\n",
       "    </tr>\n",
       "    <tr>\n",
       "      <th>64</th>\n",
       "      <td>Westminster</td>\n",
       "      <td>f</td>\n",
       "      <td>190.0</td>\n",
       "    </tr>\n",
       "    <tr>\n",
       "      <th>65</th>\n",
       "      <td>Westminster</td>\n",
       "      <td>t</td>\n",
       "      <td>238.5</td>\n",
       "    </tr>\n",
       "  </tbody>\n",
       "</table>\n",
       "<p>66 rows × 3 columns</p>\n",
       "</div>"
      ],
      "text/plain": [
       "   neighbourhood_cleansed host_is_superhost  price\n",
       "0    Barking and Dagenham                 f   75.0\n",
       "1    Barking and Dagenham                 t   63.5\n",
       "2                  Barnet                 f   89.0\n",
       "3                  Barnet                 t  112.0\n",
       "4                  Bexley                 f   70.0\n",
       "..                    ...               ...    ...\n",
       "61         Waltham Forest                 t   67.0\n",
       "62             Wandsworth                 f  110.0\n",
       "63             Wandsworth                 t  113.0\n",
       "64            Westminster                 f  190.0\n",
       "65            Westminster                 t  238.5\n",
       "\n",
       "[66 rows x 3 columns]"
      ]
     },
     "execution_count": 30,
     "metadata": {},
     "output_type": "execute_result"
    }
   ],
   "source": [
    "median_prices = df_list_takk_1.groupby(['neighbourhood_cleansed', 'host_is_superhost'])['price'].median().reset_index()\n",
    "median_prices"
   ]
  },
  {
   "cell_type": "code",
   "execution_count": 33,
   "metadata": {},
   "outputs": [
    {
     "data": {
      "text/html": [
       "<div>\n",
       "<style scoped>\n",
       "    .dataframe tbody tr th:only-of-type {\n",
       "        vertical-align: middle;\n",
       "    }\n",
       "\n",
       "    .dataframe tbody tr th {\n",
       "        vertical-align: top;\n",
       "    }\n",
       "\n",
       "    .dataframe thead th {\n",
       "        text-align: right;\n",
       "    }\n",
       "</style>\n",
       "<table border=\"1\" class=\"dataframe\">\n",
       "  <thead>\n",
       "    <tr style=\"text-align: right;\">\n",
       "      <th>host_is_superhost</th>\n",
       "      <th>f</th>\n",
       "      <th>t</th>\n",
       "    </tr>\n",
       "    <tr>\n",
       "      <th>neighbourhood_cleansed</th>\n",
       "      <th></th>\n",
       "      <th></th>\n",
       "    </tr>\n",
       "  </thead>\n",
       "  <tbody>\n",
       "    <tr>\n",
       "      <th>Barking and Dagenham</th>\n",
       "      <td>75.0</td>\n",
       "      <td>63.5</td>\n",
       "    </tr>\n",
       "    <tr>\n",
       "      <th>Barnet</th>\n",
       "      <td>89.0</td>\n",
       "      <td>112.0</td>\n",
       "    </tr>\n",
       "    <tr>\n",
       "      <th>Bexley</th>\n",
       "      <td>70.0</td>\n",
       "      <td>50.0</td>\n",
       "    </tr>\n",
       "    <tr>\n",
       "      <th>Brent</th>\n",
       "      <td>91.0</td>\n",
       "      <td>85.0</td>\n",
       "    </tr>\n",
       "    <tr>\n",
       "      <th>Bromley</th>\n",
       "      <td>79.0</td>\n",
       "      <td>64.5</td>\n",
       "    </tr>\n",
       "  </tbody>\n",
       "</table>\n",
       "</div>"
      ],
      "text/plain": [
       "host_is_superhost          f      t\n",
       "neighbourhood_cleansed             \n",
       "Barking and Dagenham    75.0   63.5\n",
       "Barnet                  89.0  112.0\n",
       "Bexley                  70.0   50.0\n",
       "Brent                   91.0   85.0\n",
       "Bromley                 79.0   64.5"
      ]
     },
     "execution_count": 33,
     "metadata": {},
     "output_type": "execute_result"
    }
   ],
   "source": [
    "# pivot to have superhost and non-superhost prices in separate columns\n",
    "pivot_df = median_prices.pivot(index='neighbourhood_cleansed', \n",
    "                               columns='host_is_superhost', \n",
    "                               values='price')\n",
    "pivot_df.head(5)"
   ]
  },
  {
   "cell_type": "code",
   "execution_count": 38,
   "metadata": {},
   "outputs": [
    {
     "data": {
      "text/html": [
       "<div>\n",
       "<style scoped>\n",
       "    .dataframe tbody tr th:only-of-type {\n",
       "        vertical-align: middle;\n",
       "    }\n",
       "\n",
       "    .dataframe tbody tr th {\n",
       "        vertical-align: top;\n",
       "    }\n",
       "\n",
       "    .dataframe thead th {\n",
       "        text-align: right;\n",
       "    }\n",
       "</style>\n",
       "<table border=\"1\" class=\"dataframe\">\n",
       "  <thead>\n",
       "    <tr style=\"text-align: right;\">\n",
       "      <th>host_is_superhost</th>\n",
       "      <th>f</th>\n",
       "      <th>t</th>\n",
       "      <th>price_diff</th>\n",
       "    </tr>\n",
       "    <tr>\n",
       "      <th>neighbourhood_cleansed</th>\n",
       "      <th></th>\n",
       "      <th></th>\n",
       "      <th></th>\n",
       "    </tr>\n",
       "  </thead>\n",
       "  <tbody>\n",
       "    <tr>\n",
       "      <th>Barking and Dagenham</th>\n",
       "      <td>75.0</td>\n",
       "      <td>63.5</td>\n",
       "      <td>11.5</td>\n",
       "    </tr>\n",
       "    <tr>\n",
       "      <th>Barnet</th>\n",
       "      <td>89.0</td>\n",
       "      <td>112.0</td>\n",
       "      <td>-23.0</td>\n",
       "    </tr>\n",
       "    <tr>\n",
       "      <th>Bexley</th>\n",
       "      <td>70.0</td>\n",
       "      <td>50.0</td>\n",
       "      <td>20.0</td>\n",
       "    </tr>\n",
       "    <tr>\n",
       "      <th>Brent</th>\n",
       "      <td>91.0</td>\n",
       "      <td>85.0</td>\n",
       "      <td>6.0</td>\n",
       "    </tr>\n",
       "    <tr>\n",
       "      <th>Bromley</th>\n",
       "      <td>79.0</td>\n",
       "      <td>64.5</td>\n",
       "      <td>14.5</td>\n",
       "    </tr>\n",
       "  </tbody>\n",
       "</table>\n",
       "</div>"
      ],
      "text/plain": [
       "host_is_superhost          f      t  price_diff\n",
       "neighbourhood_cleansed                         \n",
       "Barking and Dagenham    75.0   63.5        11.5\n",
       "Barnet                  89.0  112.0       -23.0\n",
       "Bexley                  70.0   50.0        20.0\n",
       "Brent                   91.0   85.0         6.0\n",
       "Bromley                 79.0   64.5        14.5"
      ]
     },
     "execution_count": 38,
     "metadata": {},
     "output_type": "execute_result"
    }
   ],
   "source": [
    "# calculate price difference between superhosts and non-superhosts\n",
    "pivot_df['price_diff'] = pivot_df['f'] - pivot_df['t']\n",
    "pivot_df.head(5)"
   ]
  },
  {
   "cell_type": "code",
   "execution_count": 40,
   "metadata": {},
   "outputs": [
    {
     "name": "stdout",
     "output_type": "stream",
     "text": [
      "The neighborhood with the highest median price difference between superhosts and non-superhosts is: Havering\n",
      "Price difference: 38.5\n"
     ]
    }
   ],
   "source": [
    "# find the neighborhood with the highest price difference\n",
    "# idxmax() returns the index of the maximum value in a Series or DataFrame. \n",
    "# (i.e., the neighborhood name) of the row with the maximum price difference between superhosts and non-superhosts.\n",
    "max_diff_neighborhood = pivot_df['price_diff'].idxmax()\n",
    "\n",
    "print(f\"The neighborhood with the highest median price difference between superhosts and non-superhosts is: {max_diff_neighborhood}\")\n",
    "print(f\"Price difference: {pivot_df.loc[max_diff_neighborhood, 'price_diff']}\")"
   ]
  },
  {
   "cell_type": "code",
   "execution_count": null,
   "metadata": {},
   "outputs": [],
   "source": []
  },
  {
   "cell_type": "code",
   "execution_count": 6,
   "metadata": {},
   "outputs": [
    {
     "data": {
      "text/html": [
       "<div>\n",
       "<style scoped>\n",
       "    .dataframe tbody tr th:only-of-type {\n",
       "        vertical-align: middle;\n",
       "    }\n",
       "\n",
       "    .dataframe tbody tr th {\n",
       "        vertical-align: top;\n",
       "    }\n",
       "\n",
       "    .dataframe thead th {\n",
       "        text-align: right;\n",
       "    }\n",
       "</style>\n",
       "<table border=\"1\" class=\"dataframe\">\n",
       "  <thead>\n",
       "    <tr style=\"text-align: right;\">\n",
       "      <th></th>\n",
       "      <th>neighbourhood_cleansed</th>\n",
       "      <th>host_is_superhost</th>\n",
       "      <th>price</th>\n",
       "    </tr>\n",
       "  </thead>\n",
       "  <tbody>\n",
       "    <tr>\n",
       "      <th>0</th>\n",
       "      <td>Hollywood</td>\n",
       "      <td>f</td>\n",
       "      <td>$100.00</td>\n",
       "    </tr>\n",
       "    <tr>\n",
       "      <th>1</th>\n",
       "      <td>Hollywood</td>\n",
       "      <td>t</td>\n",
       "      <td>$1,500.00</td>\n",
       "    </tr>\n",
       "    <tr>\n",
       "      <th>2</th>\n",
       "      <td>South Beach</td>\n",
       "      <td>f</td>\n",
       "      <td>$200.00</td>\n",
       "    </tr>\n",
       "    <tr>\n",
       "      <th>3</th>\n",
       "      <td>The Loop</td>\n",
       "      <td>f</td>\n",
       "      <td>$25.00</td>\n",
       "    </tr>\n",
       "    <tr>\n",
       "      <th>4</th>\n",
       "      <td>Pacific Heights</td>\n",
       "      <td>f</td>\n",
       "      <td>$180.00</td>\n",
       "    </tr>\n",
       "  </tbody>\n",
       "</table>\n",
       "</div>"
      ],
      "text/plain": [
       "  neighbourhood_cleansed host_is_superhost      price\n",
       "0              Hollywood                 f    $100.00\n",
       "1              Hollywood                 t  $1,500.00\n",
       "2            South Beach                 f    $200.00\n",
       "3               The Loop                 f     $25.00\n",
       "4        Pacific Heights                 f    $180.00"
      ]
     },
     "execution_count": 6,
     "metadata": {},
     "output_type": "execute_result"
    }
   ],
   "source": [
    "test = pd.DataFrame({\n",
    "'neighbourhood_cleansed': ['Hollywood','Hollywood','South Beach','The Loop','Pacific Heights'],\n",
    "'host_is_superhost':['f','t','f','f','f'],\n",
    "'price':['$100.00','$1,500.00','$200.00','$25.00','$180.00'],\n",
    "})\n",
    "\n",
    "test"
   ]
  },
  {
   "cell_type": "code",
   "execution_count": 21,
   "metadata": {},
   "outputs": [
    {
     "data": {
      "text/html": [
       "<div>\n",
       "<style scoped>\n",
       "    .dataframe tbody tr th:only-of-type {\n",
       "        vertical-align: middle;\n",
       "    }\n",
       "\n",
       "    .dataframe tbody tr th {\n",
       "        vertical-align: top;\n",
       "    }\n",
       "\n",
       "    .dataframe thead th {\n",
       "        text-align: right;\n",
       "    }\n",
       "</style>\n",
       "<table border=\"1\" class=\"dataframe\">\n",
       "  <thead>\n",
       "    <tr style=\"text-align: right;\">\n",
       "      <th></th>\n",
       "      <th>neighbourhood_cleansed</th>\n",
       "      <th>host_is_superhost</th>\n",
       "      <th>price</th>\n",
       "    </tr>\n",
       "  </thead>\n",
       "  <tbody>\n",
       "    <tr>\n",
       "      <th>0</th>\n",
       "      <td>Hollywood</td>\n",
       "      <td>f</td>\n",
       "      <td>100.0</td>\n",
       "    </tr>\n",
       "    <tr>\n",
       "      <th>1</th>\n",
       "      <td>Hollywood</td>\n",
       "      <td>t</td>\n",
       "      <td>1500.0</td>\n",
       "    </tr>\n",
       "    <tr>\n",
       "      <th>2</th>\n",
       "      <td>Pacific Heights</td>\n",
       "      <td>f</td>\n",
       "      <td>180.0</td>\n",
       "    </tr>\n",
       "    <tr>\n",
       "      <th>3</th>\n",
       "      <td>South Beach</td>\n",
       "      <td>f</td>\n",
       "      <td>200.0</td>\n",
       "    </tr>\n",
       "    <tr>\n",
       "      <th>4</th>\n",
       "      <td>The Loop</td>\n",
       "      <td>f</td>\n",
       "      <td>25.0</td>\n",
       "    </tr>\n",
       "  </tbody>\n",
       "</table>\n",
       "</div>"
      ],
      "text/plain": [
       "  neighbourhood_cleansed host_is_superhost   price\n",
       "0              Hollywood                 f   100.0\n",
       "1              Hollywood                 t  1500.0\n",
       "2        Pacific Heights                 f   180.0\n",
       "3            South Beach                 f   200.0\n",
       "4               The Loop                 f    25.0"
      ]
     },
     "execution_count": 21,
     "metadata": {},
     "output_type": "execute_result"
    }
   ],
   "source": [
    "median_prices = df_list_takk_1.groupby(['neighbourhood_cleansed', 'host_is_superhost'])['price'].median().reset_index()\n",
    "median_prices"
   ]
  },
  {
   "cell_type": "code",
   "execution_count": 22,
   "metadata": {},
   "outputs": [
    {
     "data": {
      "text/html": [
       "<div>\n",
       "<style scoped>\n",
       "    .dataframe tbody tr th:only-of-type {\n",
       "        vertical-align: middle;\n",
       "    }\n",
       "\n",
       "    .dataframe tbody tr th {\n",
       "        vertical-align: top;\n",
       "    }\n",
       "\n",
       "    .dataframe thead th {\n",
       "        text-align: right;\n",
       "    }\n",
       "</style>\n",
       "<table border=\"1\" class=\"dataframe\">\n",
       "  <thead>\n",
       "    <tr style=\"text-align: right;\">\n",
       "      <th>host_is_superhost</th>\n",
       "      <th>f</th>\n",
       "      <th>t</th>\n",
       "      <th>price_diff</th>\n",
       "    </tr>\n",
       "    <tr>\n",
       "      <th>neighbourhood_cleansed</th>\n",
       "      <th></th>\n",
       "      <th></th>\n",
       "      <th></th>\n",
       "    </tr>\n",
       "  </thead>\n",
       "  <tbody>\n",
       "    <tr>\n",
       "      <th>Hollywood</th>\n",
       "      <td>100.0</td>\n",
       "      <td>1500.0</td>\n",
       "      <td>-1400.0</td>\n",
       "    </tr>\n",
       "    <tr>\n",
       "      <th>Pacific Heights</th>\n",
       "      <td>180.0</td>\n",
       "      <td>NaN</td>\n",
       "      <td>NaN</td>\n",
       "    </tr>\n",
       "    <tr>\n",
       "      <th>South Beach</th>\n",
       "      <td>200.0</td>\n",
       "      <td>NaN</td>\n",
       "      <td>NaN</td>\n",
       "    </tr>\n",
       "    <tr>\n",
       "      <th>The Loop</th>\n",
       "      <td>25.0</td>\n",
       "      <td>NaN</td>\n",
       "      <td>NaN</td>\n",
       "    </tr>\n",
       "  </tbody>\n",
       "</table>\n",
       "</div>"
      ],
      "text/plain": [
       "host_is_superhost           f       t  price_diff\n",
       "neighbourhood_cleansed                           \n",
       "Hollywood               100.0  1500.0     -1400.0\n",
       "Pacific Heights         180.0     NaN         NaN\n",
       "South Beach             200.0     NaN         NaN\n",
       "The Loop                 25.0     NaN         NaN"
      ]
     },
     "execution_count": 22,
     "metadata": {},
     "output_type": "execute_result"
    }
   ],
   "source": [
    "# pivot to have superhost and non-superhost prices in separate columns\n",
    "pivot_df = median_prices.pivot(index='neighbourhood_cleansed', \n",
    "                columns='host_is_superhost', \n",
    "                values='price')\n",
    "pivot_df.head(5)\n",
    "\n",
    "\n",
    "\n",
    "# calculate price difference between superhosts and non-superhosts\n",
    "pivot_df['price_diff'] = pivot_df['f'] - pivot_df['t']\n",
    "pivot_df.head(5)"
   ]
  },
  {
   "cell_type": "code",
   "execution_count": 23,
   "metadata": {},
   "outputs": [
    {
     "name": "stdout",
     "output_type": "stream",
     "text": [
      "The neighborhood with the highest median price difference between superhosts and non-superhosts is: Hollywood\n",
      "Price difference: -1400.0\n"
     ]
    }
   ],
   "source": [
    "# calculate price difference between superhosts and non-superhosts\n",
    "pivot_df['price_diff'] = pivot_df['f'] - pivot_df['t']\n",
    "pivot_df.head(5)\n",
    "\n",
    "\n",
    "max_diff_neighborhood = pivot_df['price_diff'].idxmax()\n",
    "\n",
    "print(f\"The neighborhood with the highest median price difference between superhosts and non-superhosts is: {max_diff_neighborhood}\")\n",
    "print(f\"Price difference: {pivot_df.loc[max_diff_neighborhood, 'price_diff']}\")"
   ]
  },
  {
   "cell_type": "code",
   "execution_count": 16,
   "metadata": {},
   "outputs": [],
   "source": [
    "def task1(test):\n",
    "    #df_list_takk_1 = test[['neighbourhood_cleansed', 'host_is_superhost', 'price']]\n",
    "    # df_list_takk_1 = test\n",
    "    # df_list_takk_1['price'] = df_list_takk_1['price'].apply(lambda x: x.replace('$', '').replace(',', ''))\n",
    "    # df_list_takk_1['price'] = df_list_takk_1['price'].astype(float)\n",
    "    df_list_takk_1 = test\n",
    "    # Group the data by neighbourhood and host_is_superhost\n",
    "    median_prices = df_list_takk_1.groupby(['neighbourhood_cleansed', 'host_is_superhost'])['price'].median().reset_index()\n",
    "    median_prices\n",
    "\n",
    "    # pivot to have superhost and non-superhost prices in separate columns\n",
    "    pivot_df = median_prices.pivot(index='neighbourhood_cleansed', \n",
    "                                columns='host_is_superhost', \n",
    "                                values='price')\n",
    "    pivot_df.head(5)\n",
    "\n",
    "\n",
    "\n",
    "    # calculate price difference between superhosts and non-superhosts\n",
    "    pivot_df['price_diff'] = pivot_df['f'] - pivot_df['t']\n",
    "    pivot_df.head(5)\n",
    "\n",
    "\n",
    "    max_diff_neighborhood = pivot_df['price_diff'].idxmax()\n",
    "\n",
    "    print(f\"The neighborhood with the highest median price difference between superhosts and non-superhosts is: {max_diff_neighborhood}\")\n",
    "    print(f\"Price difference: {pivot_df.loc[max_diff_neighborhood, 'price_diff']}\")"
   ]
  },
  {
   "cell_type": "code",
   "execution_count": 17,
   "metadata": {},
   "outputs": [
    {
     "ename": "NameError",
     "evalue": "name 'median_prices' is not defined",
     "output_type": "error",
     "traceback": [
      "\u001b[1;31m---------------------------------------------------------------------------\u001b[0m",
      "\u001b[1;31mNameError\u001b[0m                                 Traceback (most recent call last)",
      "Cell \u001b[1;32mIn[17], line 1\u001b[0m\n\u001b[1;32m----> 1\u001b[0m \u001b[43mtask1\u001b[49m\u001b[43m(\u001b[49m\u001b[43mtest\u001b[49m\u001b[43m)\u001b[49m\n",
      "Cell \u001b[1;32mIn[16], line 12\u001b[0m, in \u001b[0;36mtask1\u001b[1;34m(test)\u001b[0m\n\u001b[0;32m      9\u001b[0m grouped_df\n\u001b[0;32m     11\u001b[0m \u001b[38;5;66;03m# pivot to have superhost and non-superhost prices in separate columns\u001b[39;00m\n\u001b[1;32m---> 12\u001b[0m pivot_df \u001b[38;5;241m=\u001b[39m \u001b[43mmedian_prices\u001b[49m\u001b[38;5;241m.\u001b[39mpivot(index\u001b[38;5;241m=\u001b[39m\u001b[38;5;124m'\u001b[39m\u001b[38;5;124mneighbourhood_cleansed\u001b[39m\u001b[38;5;124m'\u001b[39m, \n\u001b[0;32m     13\u001b[0m                             columns\u001b[38;5;241m=\u001b[39m\u001b[38;5;124m'\u001b[39m\u001b[38;5;124mhost_is_superhost\u001b[39m\u001b[38;5;124m'\u001b[39m, \n\u001b[0;32m     14\u001b[0m                             values\u001b[38;5;241m=\u001b[39m\u001b[38;5;124m'\u001b[39m\u001b[38;5;124mprice\u001b[39m\u001b[38;5;124m'\u001b[39m)\n\u001b[0;32m     15\u001b[0m pivot_df\u001b[38;5;241m.\u001b[39mhead(\u001b[38;5;241m5\u001b[39m)\n\u001b[0;32m     19\u001b[0m \u001b[38;5;66;03m# calculate price difference between superhosts and non-superhosts\u001b[39;00m\n",
      "\u001b[1;31mNameError\u001b[0m: name 'median_prices' is not defined"
     ]
    }
   ],
   "source": [
    "task1(test)"
   ]
  },
  {
   "cell_type": "code",
   "execution_count": null,
   "metadata": {},
   "outputs": [],
   "source": []
  },
  {
   "cell_type": "code",
   "execution_count": null,
   "metadata": {},
   "outputs": [],
   "source": []
  },
  {
   "cell_type": "markdown",
   "metadata": {},
   "source": [
    "## task 2 \n"
   ]
  },
  {
   "cell_type": "code",
   "execution_count": null,
   "metadata": {},
   "outputs": [],
   "source": [
    "# assuming 'df' is your Airbnb dataset DataFrame\n",
    "\n",
    "# calculate correlation between review scores and price\n",
    "corr_matrix = df[['price', 'review_scores_accuracy', 'review_scores_cleanliness', \n",
    "                   'review_scores_checkin', 'review_scores_communication', \n",
    "                   'review_scores_location', 'review_scores_value']].corr()\n",
    "\n",
    "# get the correlation between review scores and price\n",
    "corr_with_price = corr_matrix['price'].drop('price')\n",
    "\n",
    "# find the review score with the highest correlation to price\n",
    "max_corr_score = corr_with_price.idxmax()\n",
    "max_corr_value = corr_with_price.max()\n",
    "\n",
    "print(f\"The review score with the highest correlation to price is: {max_corr_score}\")\n",
    "print(f\"Correlation value: {max_corr_value}\")\n"
   ]
  },
  {
   "cell_type": "code",
   "execution_count": 8,
   "metadata": {},
   "outputs": [],
   "source": [
    "# Define the review score columns to analyze\n",
    "review_score_columns = [\n",
    "'review_scores_rating',\n",
    "'review_scores_accuracy',\n",
    "'review_scores_cleanliness',\n",
    "'review_scores_checkin',\n",
    "'review_scores_communication',\n",
    "'review_scores_location',\n",
    "'review_scores_value',\n",
    "'price'\n",
    "]\n",
    "df_list_takk_1 = df_listings[review_score_columns].copy()\n",
    "df_list_takk_1['price'] = df_list_takk_1['price'].apply(lambda x: x.replace('$', '').replace(',', ''))\n",
    "df_list_takk_1['price'] = df_list_takk_1['price'].astype(float)\n",
    "\n",
    "# Calculate the correlation of the review scores with price\n",
    "correlation_with_price = df_list_takk_1[review_score_columns ].corr()['price']#+ ['price']"
   ]
  },
  {
   "cell_type": "code",
   "execution_count": 9,
   "metadata": {},
   "outputs": [
    {
     "data": {
      "text/plain": [
       "review_scores_rating          -0.001427\n",
       "review_scores_accuracy        -0.018796\n",
       "review_scores_cleanliness      0.000411\n",
       "review_scores_checkin         -0.026650\n",
       "review_scores_communication   -0.030010\n",
       "review_scores_location         0.025984\n",
       "review_scores_value           -0.031564\n",
       "price                          1.000000\n",
       "Name: price, dtype: float64"
      ]
     },
     "execution_count": 9,
     "metadata": {},
     "output_type": "execute_result"
    }
   ],
   "source": [
    "correlation_with_price"
   ]
  },
  {
   "cell_type": "code",
   "execution_count": 10,
   "metadata": {},
   "outputs": [],
   "source": [
    "# Find the review score with the strongest correlation to price\n",
    "strongest_correlation = correlation_with_price.drop('price').abs().idxmax()\n",
    "strongest_correlation_value = correlation_with_price[strongest_correlation]"
   ]
  },
  {
   "cell_type": "code",
   "execution_count": 12,
   "metadata": {},
   "outputs": [
    {
     "name": "stdout",
     "output_type": "stream",
     "text": [
      "The review score with the strongest correlation to price is 'review_scores_value' with a correlation of -0.03.\n"
     ]
    }
   ],
   "source": [
    "# Call the function and print the result\n",
    "print(f\"The review score with the strongest correlation to price is '{strongest_correlation}' with a correlation of {strongest_correlation_value:.2f}.\")"
   ]
  },
  {
   "cell_type": "markdown",
   "metadata": {},
   "source": [
    "##  task 2 version 2\n"
   ]
  },
  {
   "cell_type": "code",
   "execution_count": 12,
   "metadata": {},
   "outputs": [],
   "source": [
    "# Specify the review score columns and the price column\n",
    "review_score_columns = [\n",
    "    'review_scores_rating', \n",
    "    'review_scores_accuracy', \n",
    "    'review_scores_cleanliness', \n",
    "    'review_scores_checkin', \n",
    "    'review_scores_communication', \n",
    "    'review_scores_location', \n",
    "    'review_scores_value',\n",
    "    'price'\n",
    "]\n",
    "price_column = 'price'"
   ]
  },
  {
   "cell_type": "code",
   "execution_count": 6,
   "metadata": {},
   "outputs": [],
   "source": [
    "# Check if the price column exists in the DataFrame\n",
    "if price_column not in df_listings.columns:\n",
    "    raise KeyError(f\"The specified price column '{price_column}' does not exist in the DataFrame.\")"
   ]
  },
  {
   "cell_type": "code",
   "execution_count": 13,
   "metadata": {},
   "outputs": [],
   "source": [
    "# Optionally, drop rows with missing values in the review scores and price\n",
    "df_cleaned = df_listings[review_score_columns].dropna()\n"
   ]
  },
  {
   "cell_type": "code",
   "execution_count": null,
   "metadata": {},
   "outputs": [],
   "source": []
  },
  {
   "cell_type": "code",
   "execution_count": 15,
   "metadata": {},
   "outputs": [
    {
     "name": "stderr",
     "output_type": "stream",
     "text": [
      "C:\\Users\\desktop\\AppData\\Local\\Temp\\ipykernel_13520\\3116127524.py:2: FutureWarning: The default value of numeric_only in DataFrame.corr is deprecated. In a future version, it will default to False. Select only valid columns or specify the value of numeric_only to silence this warning.\n",
      "  correlation_results = df_cleaned.corr()\n"
     ]
    },
    {
     "data": {
      "text/html": [
       "<div>\n",
       "<style scoped>\n",
       "    .dataframe tbody tr th:only-of-type {\n",
       "        vertical-align: middle;\n",
       "    }\n",
       "\n",
       "    .dataframe tbody tr th {\n",
       "        vertical-align: top;\n",
       "    }\n",
       "\n",
       "    .dataframe thead th {\n",
       "        text-align: right;\n",
       "    }\n",
       "</style>\n",
       "<table border=\"1\" class=\"dataframe\">\n",
       "  <thead>\n",
       "    <tr style=\"text-align: right;\">\n",
       "      <th></th>\n",
       "      <th>review_scores_rating</th>\n",
       "      <th>review_scores_accuracy</th>\n",
       "      <th>review_scores_cleanliness</th>\n",
       "      <th>review_scores_checkin</th>\n",
       "      <th>review_scores_communication</th>\n",
       "      <th>review_scores_location</th>\n",
       "      <th>review_scores_value</th>\n",
       "    </tr>\n",
       "  </thead>\n",
       "  <tbody>\n",
       "    <tr>\n",
       "      <th>review_scores_rating</th>\n",
       "      <td>1.000000</td>\n",
       "      <td>0.847881</td>\n",
       "      <td>0.781859</td>\n",
       "      <td>0.703606</td>\n",
       "      <td>0.762206</td>\n",
       "      <td>0.606583</td>\n",
       "      <td>0.853106</td>\n",
       "    </tr>\n",
       "    <tr>\n",
       "      <th>review_scores_accuracy</th>\n",
       "      <td>0.847881</td>\n",
       "      <td>1.000000</td>\n",
       "      <td>0.731454</td>\n",
       "      <td>0.690106</td>\n",
       "      <td>0.730984</td>\n",
       "      <td>0.594668</td>\n",
       "      <td>0.815028</td>\n",
       "    </tr>\n",
       "    <tr>\n",
       "      <th>review_scores_cleanliness</th>\n",
       "      <td>0.781859</td>\n",
       "      <td>0.731454</td>\n",
       "      <td>1.000000</td>\n",
       "      <td>0.583639</td>\n",
       "      <td>0.604645</td>\n",
       "      <td>0.520925</td>\n",
       "      <td>0.722484</td>\n",
       "    </tr>\n",
       "    <tr>\n",
       "      <th>review_scores_checkin</th>\n",
       "      <td>0.703606</td>\n",
       "      <td>0.690106</td>\n",
       "      <td>0.583639</td>\n",
       "      <td>1.000000</td>\n",
       "      <td>0.768813</td>\n",
       "      <td>0.541966</td>\n",
       "      <td>0.667405</td>\n",
       "    </tr>\n",
       "    <tr>\n",
       "      <th>review_scores_communication</th>\n",
       "      <td>0.762206</td>\n",
       "      <td>0.730984</td>\n",
       "      <td>0.604645</td>\n",
       "      <td>0.768813</td>\n",
       "      <td>1.000000</td>\n",
       "      <td>0.558524</td>\n",
       "      <td>0.715202</td>\n",
       "    </tr>\n",
       "    <tr>\n",
       "      <th>review_scores_location</th>\n",
       "      <td>0.606583</td>\n",
       "      <td>0.594668</td>\n",
       "      <td>0.520925</td>\n",
       "      <td>0.541966</td>\n",
       "      <td>0.558524</td>\n",
       "      <td>1.000000</td>\n",
       "      <td>0.614159</td>\n",
       "    </tr>\n",
       "    <tr>\n",
       "      <th>review_scores_value</th>\n",
       "      <td>0.853106</td>\n",
       "      <td>0.815028</td>\n",
       "      <td>0.722484</td>\n",
       "      <td>0.667405</td>\n",
       "      <td>0.715202</td>\n",
       "      <td>0.614159</td>\n",
       "      <td>1.000000</td>\n",
       "    </tr>\n",
       "  </tbody>\n",
       "</table>\n",
       "</div>"
      ],
      "text/plain": [
       "                             review_scores_rating  review_scores_accuracy  \\\n",
       "review_scores_rating                     1.000000                0.847881   \n",
       "review_scores_accuracy                   0.847881                1.000000   \n",
       "review_scores_cleanliness                0.781859                0.731454   \n",
       "review_scores_checkin                    0.703606                0.690106   \n",
       "review_scores_communication              0.762206                0.730984   \n",
       "review_scores_location                   0.606583                0.594668   \n",
       "review_scores_value                      0.853106                0.815028   \n",
       "\n",
       "                             review_scores_cleanliness  review_scores_checkin  \\\n",
       "review_scores_rating                          0.781859               0.703606   \n",
       "review_scores_accuracy                        0.731454               0.690106   \n",
       "review_scores_cleanliness                     1.000000               0.583639   \n",
       "review_scores_checkin                         0.583639               1.000000   \n",
       "review_scores_communication                   0.604645               0.768813   \n",
       "review_scores_location                        0.520925               0.541966   \n",
       "review_scores_value                           0.722484               0.667405   \n",
       "\n",
       "                             review_scores_communication  \\\n",
       "review_scores_rating                            0.762206   \n",
       "review_scores_accuracy                          0.730984   \n",
       "review_scores_cleanliness                       0.604645   \n",
       "review_scores_checkin                           0.768813   \n",
       "review_scores_communication                     1.000000   \n",
       "review_scores_location                          0.558524   \n",
       "review_scores_value                             0.715202   \n",
       "\n",
       "                             review_scores_location  review_scores_value  \n",
       "review_scores_rating                       0.606583             0.853106  \n",
       "review_scores_accuracy                     0.594668             0.815028  \n",
       "review_scores_cleanliness                  0.520925             0.722484  \n",
       "review_scores_checkin                      0.541966             0.667405  \n",
       "review_scores_communication                0.558524             0.715202  \n",
       "review_scores_location                     1.000000             0.614159  \n",
       "review_scores_value                        0.614159             1.000000  "
      ]
     },
     "execution_count": 15,
     "metadata": {},
     "output_type": "execute_result"
    }
   ],
   "source": [
    "# Calculate the correlation of review scores with price\n",
    "correlation_results = df_cleaned.corr()\n",
    "correlation_results"
   ]
  },
  {
   "cell_type": "code",
   "execution_count": 38,
   "metadata": {},
   "outputs": [],
   "source": [
    "def review_score_with_highest_correlation_to_price_2(df_listings: pd.DataFrame, df_reviews: pd.DataFrame) -> str:\n",
    "    # Define the review score columns to analyze\n",
    "    review_score_columns = [\n",
    "    'review_scores_rating',\n",
    "    'review_scores_accuracy',\n",
    "    'review_scores_cleanliness',\n",
    "    'review_scores_checkin',\n",
    "    'review_scores_communication',\n",
    "    'review_scores_location',\n",
    "    'review_scores_value',\n",
    "    'price'\n",
    "    ]\n",
    "    df_list_takk_1 = df_listings[review_score_columns].copy()\n",
    "    # df_list_takk_1['price'] = df_list_takk_1['price'].apply(lambda x: x.replace('$', '').replace(',', ''))\n",
    "    # df_list_takk_1['price'] = df_list_takk_1['price'].astype(float)\n",
    "    df_list_takk_1['price'] = df_list_takk_1['price'].replace({'\\$': '', ',': ''}, regex=True).astype(float)\n",
    "    # Calculate the correlation of the review scores with price\n",
    "    correlation_with_price = df_list_takk_1[review_score_columns ].corr()['price']#+ ['price']\n",
    " \n",
    "\n",
    "   # Find the review score with the strongest correlation to price\n",
    "    strongest_correlation = correlation_with_price.drop('price').abs().idxmax()\n",
    "    #strongest_correlation_value = correlation_with_price[strongest_correlation]\n",
    "\n",
    "    #print(f\"The review score with the strongest correlation to price is '{strongest_correlation}' with a correlation of {strongest_correlation_value:.2f}.\")\n",
    "    return strongest_correlation "
   ]
  },
  {
   "cell_type": "code",
   "execution_count": 42,
   "metadata": {},
   "outputs": [
    {
     "data": {
      "text/html": [
       "<div>\n",
       "<style scoped>\n",
       "    .dataframe tbody tr th:only-of-type {\n",
       "        vertical-align: middle;\n",
       "    }\n",
       "\n",
       "    .dataframe tbody tr th {\n",
       "        vertical-align: top;\n",
       "    }\n",
       "\n",
       "    .dataframe thead th {\n",
       "        text-align: right;\n",
       "    }\n",
       "</style>\n",
       "<table border=\"1\" class=\"dataframe\">\n",
       "  <thead>\n",
       "    <tr style=\"text-align: right;\">\n",
       "      <th></th>\n",
       "      <th>review_scores_rating</th>\n",
       "      <th>review_scores_accuracy</th>\n",
       "      <th>review_scores_cleanliness</th>\n",
       "      <th>review_scores_checkin</th>\n",
       "      <th>review_scores_communication</th>\n",
       "      <th>review_scores_location</th>\n",
       "      <th>review_scores_value</th>\n",
       "      <th>price</th>\n",
       "    </tr>\n",
       "  </thead>\n",
       "  <tbody>\n",
       "    <tr>\n",
       "      <th>0</th>\n",
       "      <td>4.5</td>\n",
       "      <td>4.5</td>\n",
       "      <td>4.5</td>\n",
       "      <td>4.5</td>\n",
       "      <td>4.5</td>\n",
       "      <td>4.5</td>\n",
       "      <td>4.5</td>\n",
       "      <td>$100.00</td>\n",
       "    </tr>\n",
       "    <tr>\n",
       "      <th>1</th>\n",
       "      <td>4.8</td>\n",
       "      <td>4.8</td>\n",
       "      <td>4.8</td>\n",
       "      <td>4.8</td>\n",
       "      <td>4.8</td>\n",
       "      <td>4.8</td>\n",
       "      <td>4.8</td>\n",
       "      <td>$1,500.00</td>\n",
       "    </tr>\n",
       "    <tr>\n",
       "      <th>2</th>\n",
       "      <td>4.9</td>\n",
       "      <td>4.9</td>\n",
       "      <td>4.9</td>\n",
       "      <td>4.9</td>\n",
       "      <td>4.9</td>\n",
       "      <td>4.9</td>\n",
       "      <td>4.9</td>\n",
       "      <td>$200.00</td>\n",
       "    </tr>\n",
       "    <tr>\n",
       "      <th>3</th>\n",
       "      <td>4.7</td>\n",
       "      <td>4.7</td>\n",
       "      <td>4.7</td>\n",
       "      <td>4.7</td>\n",
       "      <td>4.7</td>\n",
       "      <td>4.7</td>\n",
       "      <td>4.7</td>\n",
       "      <td>$25.00</td>\n",
       "    </tr>\n",
       "    <tr>\n",
       "      <th>4</th>\n",
       "      <td>4.6</td>\n",
       "      <td>4.6</td>\n",
       "      <td>4.6</td>\n",
       "      <td>4.6</td>\n",
       "      <td>4.6</td>\n",
       "      <td>4.6</td>\n",
       "      <td>4.6</td>\n",
       "      <td>$182.00</td>\n",
       "    </tr>\n",
       "  </tbody>\n",
       "</table>\n",
       "</div>"
      ],
      "text/plain": [
       "   review_scores_rating  review_scores_accuracy  review_scores_cleanliness  \\\n",
       "0                   4.5                     4.5                        4.5   \n",
       "1                   4.8                     4.8                        4.8   \n",
       "2                   4.9                     4.9                        4.9   \n",
       "3                   4.7                     4.7                        4.7   \n",
       "4                   4.6                     4.6                        4.6   \n",
       "\n",
       "   review_scores_checkin  review_scores_communication  review_scores_location  \\\n",
       "0                    4.5                          4.5                     4.5   \n",
       "1                    4.8                          4.8                     4.8   \n",
       "2                    4.9                          4.9                     4.9   \n",
       "3                    4.7                          4.7                     4.7   \n",
       "4                    4.6                          4.6                     4.6   \n",
       "\n",
       "   review_scores_value      price  \n",
       "0                  4.5    $100.00  \n",
       "1                  4.8  $1,500.00  \n",
       "2                  4.9    $200.00  \n",
       "3                  4.7     $25.00  \n",
       "4                  4.6    $182.00  "
      ]
     },
     "execution_count": 42,
     "metadata": {},
     "output_type": "execute_result"
    }
   ],
   "source": [
    "review_score_columns = [\n",
    "'review_scores_rating',\n",
    "'review_scores_accuracy',\n",
    "'review_scores_cleanliness',\n",
    "'review_scores_checkin',\n",
    "'review_scores_communication',\n",
    "'review_scores_location',\n",
    "'review_scores_value',\n",
    "'price'\n",
    "]\n",
    "df_list_takk_1 = df_listings_test[review_score_columns].copy()\n",
    "df_list_takk_1"
   ]
  },
  {
   "cell_type": "code",
   "execution_count": 39,
   "metadata": {},
   "outputs": [
    {
     "data": {
      "text/plain": [
       "'review_scores_rating'"
      ]
     },
     "execution_count": 39,
     "metadata": {},
     "output_type": "execute_result"
    }
   ],
   "source": [
    "review_score_with_highest_correlation_to_price_2(df_listings_test,df_reviews)"
   ]
  },
  {
   "cell_type": "code",
   "execution_count": null,
   "metadata": {},
   "outputs": [],
   "source": []
  },
  {
   "cell_type": "code",
   "execution_count": null,
   "metadata": {},
   "outputs": [],
   "source": []
  },
  {
   "cell_type": "code",
   "execution_count": null,
   "metadata": {},
   "outputs": [],
   "source": []
  },
  {
   "cell_type": "code",
   "execution_count": 5,
   "metadata": {},
   "outputs": [],
   "source": [
    "def prof_non_prof_host_price_diff(df_listings: pd.DataFrame, df_reviews: pd.DataFrame) -> str:\n",
    "\n",
    "    # Load your dataset (assuming it's in a CSV file)\n",
    "    # listings = pd.read_csv('path_to_your_airbnb_dataset.csv')\n",
    "    # Create a new DataFrame with the required columns\n",
    "    required_columns = ['host_id', 'neighbourhood_cleansed', 'price']\n",
    "    listings_filtered = df_listings[required_columns].copy()\n",
    "\n",
    "    listings_filtered['price'] = listings_filtered['price'].replace({'\\$': '', ',': ''}, regex=True).astype(float)\n",
    "    # Group by host and count the number of unique neighborhoods\n",
    "    host_neighborhood_counts = listings_filtered.groupby('host_id')['neighbourhood_cleansed'].nunique()\n",
    "\n",
    "    # Define professional hosts as those with more than 5 unique neighborhoods\n",
    "    professional_hosts = host_neighborhood_counts[host_neighborhood_counts > 5].index\n",
    "\n",
    "    # Create a new column to classify hosts\n",
    "    listings_filtered['host_type'] = listings_filtered['host_id'].apply(lambda x: 'professional' if x in professional_hosts else 'non-professional')\n",
    "\n",
    "    # Calculate the average price for professional and non-professional hosts\n",
    "    average_prices = listings_filtered.groupby('host_type')['price'].mean().reset_index()\n",
    "\n",
    "        # Check if there are no professional hosts\n",
    "    if 'professional' not in average_prices['host_type'].values:\n",
    "        return \"There are no professional hosts in the dataset.\"\n",
    "\n",
    "    # Check if there are no non-professional hosts\n",
    "    if 'non-professional' not in average_prices['host_type'].values:\n",
    "        return \"There are no non-professional hosts in the dataset.\"\n",
    "\n",
    "\n",
    "    # Calculate the price difference\n",
    "    price_difference = average_prices.loc[average_prices['host_type'] == 'professional', 'price'].values[0] - \\\n",
    "                     average_prices.loc[average_prices['host_type'] == 'non-professional', 'price'].values[0]\n",
    "\n",
    "    # Print the results\n",
    "    #print(f\"The average price difference between professional hosts and non-professional hosts is ${price_difference:.2f}.\")\n",
    "    return price_difference"
   ]
  },
  {
   "cell_type": "code",
   "execution_count": 79,
   "metadata": {},
   "outputs": [
    {
     "data": {
      "text/plain": [
       "'There are no professional hosts in the dataset.'"
      ]
     },
     "execution_count": 79,
     "metadata": {},
     "output_type": "execute_result"
    }
   ],
   "source": [
    "prof_non_prof_host_price_diff(df_listings_test,df_reviews_test)"
   ]
  },
  {
   "cell_type": "code",
   "execution_count": 32,
   "metadata": {},
   "outputs": [],
   "source": [
    "## version2\n",
    "def prof_non_prof_host_price_diff(df_listings: pd.DataFrame, df_reviews: pd.DataFrame) -> str:\n",
    "    required_columns = ['host_id', 'neighbourhood_cleansed', 'price']\n",
    "    listings_filtered = df_listings[required_columns].copy()\n",
    "\n",
    "    listings_filtered['price'] = listings_filtered['price'].replace({'\\$': '', ',': ''}, regex=True).astype(float)\n",
    "\n",
    "    # Step 1: Identify professional hosts\n",
    "    # Count the number of unique neighborhoods for each host\n",
    "    host_neighborhood_counts = listings_filtered.groupby('host_id')['neighbourhood_cleansed'].nunique()\n",
    "\n",
    "    # Classify hosts as professional or non-professional\n",
    "    professional_hosts = host_neighborhood_counts[host_neighborhood_counts > 5].index\n",
    "    listings_filtered['host_type'] = listings_filtered['host_id'].apply(lambda x: 'Professional' if x in professional_hosts else 'Non-Professional')\n",
    "\n",
    "    # Step 2: Calculate average prices for professional and non-professional hosts\n",
    "    average_prices = listings_filtered.groupby('host_type')['price'].mean()\n",
    "    average_price = type(average_prices)\n",
    "    # Initialize default values\n",
    "    avg_professional_price = average_prices.get('Professional', 0)  # Default to 0 if not found\n",
    "    avg_non_professional_price = average_prices.get('Non-Professional', 0)  # Default to 0 if not found\n",
    "\n",
    "    # Step 3: Calculate the price difference\n",
    "    #price_difference = average_prices['Professional'] - average_prices['Non-Professional']\n",
    "\n",
    "    # Calculate the price difference\n",
    "    price_difference = avg_professional_price - avg_non_professional_price\n",
    "\n",
    "    # Output the results\n",
    "    # print(f\"Average price for Professional Hosts: ${average_prices['Professional']:.2f}\")\n",
    "    # print(f\"Average price for Non-Professional Hosts: ${average_prices['Non-Professional']:.2f}\")\n",
    "    # print(f\"Average price difference: ${price_difference:.2f}\")\n",
    "\n",
    "    return price_difference\n"
   ]
  },
  {
   "cell_type": "code",
   "execution_count": 33,
   "metadata": {},
   "outputs": [
    {
     "data": {
      "text/plain": [
       "-401.4"
      ]
     },
     "execution_count": 33,
     "metadata": {},
     "output_type": "execute_result"
    }
   ],
   "source": [
    "prof_non_prof_host_price_diff(df_listings_test,df_reviews_test)"
   ]
  },
  {
   "cell_type": "code",
   "execution_count": 34,
   "metadata": {},
   "outputs": [
    {
     "name": "stdout",
     "output_type": "stream",
     "text": [
      "TURING/\n",
      "    area_scrap.ipynb\n",
      "    manual_test.py/\n",
      "        manual_test.py\n",
      "        test_df.py\n",
      "        __pycache__/\n",
      "            test_df.cpython-311.pyc\n",
      "    sample.ipynb\n",
      "    src/\n",
      "        data_loader.py\n",
      "        task1.py\n",
      "        task2.py\n",
      "        task3.py\n",
      "        __init__.py\n",
      "        __pycache__/\n",
      "            data_loader.cpython-311.pyc\n",
      "            task1.cpython-311.pyc\n",
      "            task3.cpython-311.pyc\n",
      "            __init__.cpython-311.pyc\n",
      "    tests/\n",
      "        tests_main.py\n",
      "    test_data/\n",
      "        test_df.py\n",
      "    turing.ipynb\n",
      "    __init__.py\n"
     ]
    }
   ],
   "source": [
    "import os\n",
    "\n",
    "def print_directory_structure(root_dir, level=0):\n",
    "    # Print the current directory\n",
    "    print('    ' * level + os.path.basename(root_dir) + '/')\n",
    "    \n",
    "    # List all files and directories in the current directory\n",
    "    try:\n",
    "        for item in os.listdir(root_dir):\n",
    "            item_path = os.path.join(root_dir, item)\n",
    "            if os.path.isdir(item_path):\n",
    "                # If it's a directory, recursively print its structure\n",
    "                print_directory_structure(item_path, level + 1)\n",
    "            else:\n",
    "                # If it's a file, print its name\n",
    "                print('    ' * (level + 1) + item)\n",
    "    except PermissionError:\n",
    "        print('    ' * level + '[Permission Denied]')\n",
    "\n",
    "# Get the current working directory\n",
    "current_directory = os.getcwd()\n",
    "\n",
    "# Print the directory structure starting from the current directory\n",
    "print_directory_structure(current_directory)\n"
   ]
  },
  {
   "cell_type": "code",
   "execution_count": 115,
   "metadata": {},
   "outputs": [],
   "source": [
    "import pandas as pd\n",
    "\n",
    "def best_listing_for_revenue(listings, reviews):\n",
    "    \"\"\"\n",
    "    Determine the listing with the best expected revenue based on the last 12 months.\n",
    "    \n",
    "    Parameters:\n",
    "    listings (DataFrame): The Airbnb listings DataFrame containing price and minimum nights information.\n",
    "    reviews (DataFrame): The Airbnb reviews DataFrame containing review counts.\n",
    "    \n",
    "    Returns:\n",
    "    DataFrame: The listing with the best expected revenue.\n",
    "    \"\"\"\n",
    "    review_score_columns = [\n",
    "    'minimum_nights',\n",
    "    'id',\n",
    "    'review_scores_cleanliness',\n",
    "    'review_scores_checkin',\n",
    "    'review_scores_communication',\n",
    "    'review_scores_location',\n",
    "    'review_scores_value',\n",
    "    'price'\n",
    "    ]\n",
    "    df_list_takk_1 = df_listings[review_score_columns].copy()\n",
    "    \n",
    "    # Filter listings with minimum_nights <= 7\n",
    "    filtered_listings = df_list_takk_1[df_listings['minimum_nights'] <= 7].copy()\n",
    "\n",
    "    # Calculate the number of reviews for each listing\n",
    "    review_counts = df_reviews['listing_id'].value_counts().reset_index()\n",
    "    review_counts.columns = ['id', 'number_of_reviews']#listing_id to id\n",
    "\n",
    "    # Merge the review counts with the filtered listings\n",
    "    merged_data = pd.merge(filtered_listings, review_counts, on='id', how='left')#listing_id to id\n",
    "\n",
    "    # Fill NaN values in number_of_reviews with 0\n",
    "    merged_data['number_of_reviews'] = merged_data['number_of_reviews'].fillna(0)\n",
    "\n",
    "    # Calculate expected revenue\n",
    "    # Assuming 60% of guests leave reviews\n",
    "    merged_data['expected_revenue'] = (merged_data['number_of_reviews'] / 0.6) * merged_data['price'] * merged_data['minimum_nights']\n",
    "\n",
    "    # Find the listing with the maximum expected revenue\n",
    "    best_listing = merged_data.loc[merged_data['expected_revenue'].idxmax()]\n",
    "\n",
    "    return filtered_listings.columns\n",
    "\n",
    "# Example usage:\n",
    "# Load your datasets (assuming they are in CSV files)\n",
    "# listings = pd.read_csv('path_to_your_airbnb_listings.csv')\n",
    "# reviews = pd.read_csv('path_to_your_airbnb_reviews.csv')\n",
    "# best_listing = best_listing_for_revenue(listings, reviews)\n",
    "# print(best_listing)\n"
   ]
  },
  {
   "cell_type": "code",
   "execution_count": 4,
   "metadata": {},
   "outputs": [
    {
     "data": {
      "text/plain": [
       "Index(['id', 'listing_url', 'scrape_id', 'last_scraped', 'source', 'name',\n",
       "       'description', 'neighborhood_overview', 'picture_url', 'host_id',\n",
       "       'host_url', 'host_name', 'host_since', 'host_location', 'host_about',\n",
       "       'host_response_time', 'host_response_rate', 'host_acceptance_rate',\n",
       "       'host_is_superhost', 'host_thumbnail_url', 'host_picture_url',\n",
       "       'host_neighbourhood', 'host_listings_count',\n",
       "       'host_total_listings_count', 'host_verifications',\n",
       "       'host_has_profile_pic', 'host_identity_verified', 'neighbourhood',\n",
       "       'neighbourhood_cleansed', 'neighbourhood_group_cleansed', 'latitude',\n",
       "       'longitude', 'property_type', 'room_type', 'accommodates', 'bathrooms',\n",
       "       'bathrooms_text', 'bedrooms', 'beds', 'amenities', 'price',\n",
       "       'minimum_nights', 'maximum_nights', 'minimum_minimum_nights',\n",
       "       'maximum_minimum_nights', 'minimum_maximum_nights',\n",
       "       'maximum_maximum_nights', 'minimum_nights_avg_ntm',\n",
       "       'maximum_nights_avg_ntm', 'calendar_updated', 'has_availability',\n",
       "       'availability_30', 'availability_60', 'availability_90',\n",
       "       'availability_365', 'calendar_last_scraped', 'number_of_reviews',\n",
       "       'number_of_reviews_ltm', 'number_of_reviews_l30d', 'first_review',\n",
       "       'last_review', 'review_scores_rating', 'review_scores_accuracy',\n",
       "       'review_scores_cleanliness', 'review_scores_checkin',\n",
       "       'review_scores_communication', 'review_scores_location',\n",
       "       'review_scores_value', 'license', 'instant_bookable',\n",
       "       'calculated_host_listings_count',\n",
       "       'calculated_host_listings_count_entire_homes',\n",
       "       'calculated_host_listings_count_private_rooms',\n",
       "       'calculated_host_listings_count_shared_rooms', 'reviews_per_month'],\n",
       "      dtype='object')"
      ]
     },
     "execution_count": 4,
     "metadata": {},
     "output_type": "execute_result"
    }
   ],
   "source": [
    "filtered_listings = df_listings[df_listings['minimum_nights'] <= 7].copy()\n",
    "filtered_listings.columns"
   ]
  },
  {
   "cell_type": "code",
   "execution_count": 108,
   "metadata": {},
   "outputs": [
    {
     "data": {
      "text/html": [
       "<div>\n",
       "<style scoped>\n",
       "    .dataframe tbody tr th:only-of-type {\n",
       "        vertical-align: middle;\n",
       "    }\n",
       "\n",
       "    .dataframe tbody tr th {\n",
       "        vertical-align: top;\n",
       "    }\n",
       "\n",
       "    .dataframe thead th {\n",
       "        text-align: right;\n",
       "    }\n",
       "</style>\n",
       "<table border=\"1\" class=\"dataframe\">\n",
       "  <thead>\n",
       "    <tr style=\"text-align: right;\">\n",
       "      <th></th>\n",
       "      <th>id</th>\n",
       "      <th>listing_id</th>\n",
       "      <th>date</th>\n",
       "      <th>reviewer_id</th>\n",
       "      <th>reviewer_name</th>\n",
       "      <th>review</th>\n",
       "      <th>rating</th>\n",
       "    </tr>\n",
       "  </thead>\n",
       "  <tbody>\n",
       "    <tr>\n",
       "      <th>0</th>\n",
       "      <td>10</td>\n",
       "      <td>1</td>\n",
       "      <td>2020-01-01</td>\n",
       "      <td>123</td>\n",
       "      <td>John</td>\n",
       "      <td>Great place!</td>\n",
       "      <td>5</td>\n",
       "    </tr>\n",
       "  </tbody>\n",
       "</table>\n",
       "</div>"
      ],
      "text/plain": [
       "   id  listing_id        date  reviewer_id reviewer_name        review  rating\n",
       "0  10           1  2020-01-01          123          John  Great place!       5"
      ]
     },
     "execution_count": 108,
     "metadata": {},
     "output_type": "execute_result"
    }
   ],
   "source": [
    "df_reviews.head(1)"
   ]
  },
  {
   "cell_type": "code",
   "execution_count": 109,
   "metadata": {},
   "outputs": [
    {
     "data": {
      "text/html": [
       "<div>\n",
       "<style scoped>\n",
       "    .dataframe tbody tr th:only-of-type {\n",
       "        vertical-align: middle;\n",
       "    }\n",
       "\n",
       "    .dataframe tbody tr th {\n",
       "        vertical-align: top;\n",
       "    }\n",
       "\n",
       "    .dataframe thead th {\n",
       "        text-align: right;\n",
       "    }\n",
       "</style>\n",
       "<table border=\"1\" class=\"dataframe\">\n",
       "  <thead>\n",
       "    <tr style=\"text-align: right;\">\n",
       "      <th></th>\n",
       "      <th>id</th>\n",
       "      <th>number_of_reviews</th>\n",
       "    </tr>\n",
       "  </thead>\n",
       "  <tbody>\n",
       "    <tr>\n",
       "      <th>0</th>\n",
       "      <td>1</td>\n",
       "      <td>1</td>\n",
       "    </tr>\n",
       "  </tbody>\n",
       "</table>\n",
       "</div>"
      ],
      "text/plain": [
       "   id  number_of_reviews\n",
       "0   1                  1"
      ]
     },
     "execution_count": 109,
     "metadata": {},
     "output_type": "execute_result"
    }
   ],
   "source": [
    "review_counts = df_reviews['listing_id'].value_counts().reset_index()\n",
    "review_counts.columns = ['id','number_of_reviews']\n",
    "review_counts.head(1)"
   ]
  },
  {
   "cell_type": "code",
   "execution_count": 110,
   "metadata": {},
   "outputs": [
    {
     "data": {
      "text/plain": [
       "Index(['id', 'listing_url', 'scrape_id', 'last_scraped', 'source', 'name',\n",
       "       'description', 'neighborhood_overview', 'picture_url', 'host_id',\n",
       "       'host_url', 'host_name', 'host_since', 'host_location', 'host_about',\n",
       "       'host_response_time', 'host_response_rate', 'host_acceptance_rate',\n",
       "       'host_is_superhost', 'host_thumbnail_url', 'host_picture_url',\n",
       "       'host_neighbourhood', 'host_listings_count',\n",
       "       'host_total_listings_count', 'host_verifications',\n",
       "       'host_has_profile_pic', 'host_identity_verified', 'neighbourhood',\n",
       "       'neighbourhood_cleansed', 'neighbourhood_group_cleansed', 'latitude',\n",
       "       'longitude', 'property_type', 'room_type', 'accommodates', 'bathrooms',\n",
       "       'bathrooms_text', 'bedrooms', 'beds', 'amenities', 'price',\n",
       "       'minimum_nights', 'maximum_nights', 'minimum_minimum_nights',\n",
       "       'maximum_minimum_nights', 'minimum_maximum_nights',\n",
       "       'maximum_maximum_nights', 'minimum_nights_avg_ntm',\n",
       "       'maximum_nights_avg_ntm', 'calendar_updated', 'has_availability',\n",
       "       'availability_30', 'availability_60', 'availability_90',\n",
       "       'availability_365', 'calendar_last_scraped', 'number_of_reviews_x',\n",
       "       'number_of_reviews_ltm', 'number_of_reviews_l30d', 'first_review',\n",
       "       'last_review', 'review_scores_rating', 'review_scores_accuracy',\n",
       "       'review_scores_cleanliness', 'review_scores_checkin',\n",
       "       'review_scores_communication', 'review_scores_location',\n",
       "       'review_scores_value', 'license', 'instant_bookable',\n",
       "       'calculated_host_listings_count',\n",
       "       'calculated_host_listings_count_entire_homes',\n",
       "       'calculated_host_listings_count_private_rooms',\n",
       "       'calculated_host_listings_count_shared_rooms', 'reviews_per_month',\n",
       "       'number_of_reviews_y'],\n",
       "      dtype='object')"
      ]
     },
     "execution_count": 110,
     "metadata": {},
     "output_type": "execute_result"
    }
   ],
   "source": [
    "merged_data = pd.merge(filtered_listings, review_counts, on='id', how='left')\n",
    "merged_data.columns"
   ]
  },
  {
   "cell_type": "code",
   "execution_count": null,
   "metadata": {},
   "outputs": [],
   "source": [
    "merged_data['number_of_reviews'] = merged_data['number_of_reviews'].fillna(0)"
   ]
  },
  {
   "cell_type": "code",
   "execution_count": null,
   "metadata": {},
   "outputs": [],
   "source": [
    "best_listing_for_revenue(df_listings,df_reviews)"
   ]
  },
  {
   "cell_type": "code",
   "execution_count": null,
   "metadata": {},
   "outputs": [],
   "source": []
  },
  {
   "cell_type": "code",
   "execution_count": null,
   "metadata": {},
   "outputs": [],
   "source": []
  },
  {
   "cell_type": "code",
   "execution_count": 39,
   "metadata": {},
   "outputs": [
    {
     "data": {
      "text/plain": [
       "'review_scores_value'"
      ]
     },
     "execution_count": 39,
     "metadata": {},
     "output_type": "execute_result"
    }
   ],
   "source": [
    "review_score_with_highest_correlation_to_price_2(df_listings,df_reviews)"
   ]
  },
  {
   "cell_type": "code",
   "execution_count": 40,
   "metadata": {},
   "outputs": [
    {
     "data": {
      "text/plain": [
       "'review_scores_value'"
      ]
     },
     "execution_count": 40,
     "metadata": {},
     "output_type": "execute_result"
    }
   ],
   "source": [
    "review_score_with_highest_correlation_to_price_2(df_listings,df_reviews)"
   ]
  },
  {
   "cell_type": "code",
   "execution_count": 64,
   "metadata": {},
   "outputs": [
    {
     "data": {
      "text/html": [
       "<div>\n",
       "<style scoped>\n",
       "    .dataframe tbody tr th:only-of-type {\n",
       "        vertical-align: middle;\n",
       "    }\n",
       "\n",
       "    .dataframe tbody tr th {\n",
       "        vertical-align: top;\n",
       "    }\n",
       "\n",
       "    .dataframe thead th {\n",
       "        text-align: right;\n",
       "    }\n",
       "</style>\n",
       "<table border=\"1\" class=\"dataframe\">\n",
       "  <thead>\n",
       "    <tr style=\"text-align: right;\">\n",
       "      <th></th>\n",
       "      <th>host_type</th>\n",
       "      <th>price</th>\n",
       "    </tr>\n",
       "  </thead>\n",
       "  <tbody>\n",
       "    <tr>\n",
       "      <th>0</th>\n",
       "      <td>non-professional</td>\n",
       "      <td>401.4</td>\n",
       "    </tr>\n",
       "  </tbody>\n",
       "</table>\n",
       "</div>"
      ],
      "text/plain": [
       "          host_type  price\n",
       "0  non-professional  401.4"
      ]
     },
     "execution_count": 64,
     "metadata": {},
     "output_type": "execute_result"
    }
   ],
   "source": [
    "prof_non_prof_host_price_diff(df_listings_test,df_reviews_test)"
   ]
  },
  {
   "cell_type": "markdown",
   "metadata": {},
   "source": [
    "## task 4\n"
   ]
  },
  {
   "cell_type": "code",
   "execution_count": 4,
   "metadata": {},
   "outputs": [],
   "source": [
    "\n",
    "def median_price_premium(df_listings: pd.DataFrame, df_reviews: pd.DataFrame) -> float:\n",
    "    # Filter for entire homes/apartments and other types\n",
    "    entire_homes = df_listings[df_listings['room_type'] == 'Entire home/apt'].copy()\n",
    "    other_listings = df_listings[df_listings['room_type'] != 'Entire home/apt'].copy()\n",
    "    \n",
    "    # Convert price to numeric (removing $ and commas)\n",
    "    entire_homes['price'] = entire_homes['price'].replace({'\\$': '', ',': ''}, regex=True).astype(float)\n",
    "    other_listings['price'] = other_listings['price'].replace({'\\$': '', ',': ''}, regex=True).astype(float)\n",
    "    \n",
    "    # Group by neighborhood and calculate median prices\n",
    "    median_entire_homes = entire_homes.groupby('neighbourhood_cleansed')['price'].median()\n",
    "    median_other_listings = other_listings.groupby('neighbourhood_cleansed')['price'].median()\n",
    "    \n",
    "    # Create a DataFrame to compare medians\n",
    "    median_comparison = pd.DataFrame({\n",
    "        'median_entire_homes': median_entire_homes,\n",
    "        'median_other_listings': median_other_listings\n",
    "    }).dropna()  # Drop neighborhoods that don't have both types of listings\n",
    "    \n",
    "    # Calculate the price premium\n",
    "    median_comparison['price_premium'] = median_comparison['median_entire_homes'] - median_comparison['median_other_listings']\n",
    "    \n",
    "    # Return the average price premium across all neighborhoods\n",
    "    return median_comparison['price_premium'].mean()\n"
   ]
  },
  {
   "cell_type": "code",
   "execution_count": 6,
   "metadata": {},
   "outputs": [
    {
     "data": {
      "text/plain": [
       "86.78787878787878"
      ]
     },
     "execution_count": 6,
     "metadata": {},
     "output_type": "execute_result"
    }
   ],
   "source": [
    "median_price_premium(df_listings,df_reviews)"
   ]
  },
  {
   "cell_type": "code",
   "execution_count": 7,
   "metadata": {},
   "outputs": [
    {
     "data": {
      "text/plain": [
       "Index(['id', 'listing_url', 'scrape_id', 'last_scraped', 'source', 'name',\n",
       "       'description', 'neighborhood_overview', 'picture_url', 'host_id',\n",
       "       'host_url', 'host_name', 'host_since', 'host_location', 'host_about',\n",
       "       'host_response_time', 'host_response_rate', 'host_acceptance_rate',\n",
       "       'host_is_superhost', 'host_thumbnail_url', 'host_picture_url',\n",
       "       'host_neighbourhood', 'host_listings_count',\n",
       "       'host_total_listings_count', 'host_verifications',\n",
       "       'host_has_profile_pic', 'host_identity_verified', 'neighbourhood',\n",
       "       'neighbourhood_cleansed', 'neighbourhood_group_cleansed', 'latitude',\n",
       "       'longitude', 'property_type', 'room_type', 'accommodates', 'bathrooms',\n",
       "       'bathrooms_text', 'bedrooms', 'beds', 'amenities', 'price',\n",
       "       'minimum_nights', 'maximum_nights', 'minimum_minimum_nights',\n",
       "       'maximum_minimum_nights', 'minimum_maximum_nights',\n",
       "       'maximum_maximum_nights', 'minimum_nights_avg_ntm',\n",
       "       'maximum_nights_avg_ntm', 'calendar_updated', 'has_availability',\n",
       "       'availability_30', 'availability_60', 'availability_90',\n",
       "       'availability_365', 'calendar_last_scraped', 'number_of_reviews',\n",
       "       'number_of_reviews_ltm', 'number_of_reviews_l30d', 'first_review',\n",
       "       'last_review', 'review_scores_rating', 'review_scores_accuracy',\n",
       "       'review_scores_cleanliness', 'review_scores_checkin',\n",
       "       'review_scores_communication', 'review_scores_location',\n",
       "       'review_scores_value', 'license', 'instant_bookable',\n",
       "       'calculated_host_listings_count',\n",
       "       'calculated_host_listings_count_entire_homes',\n",
       "       'calculated_host_listings_count_private_rooms',\n",
       "       'calculated_host_listings_count_shared_rooms', 'reviews_per_month'],\n",
       "      dtype='object')"
      ]
     },
     "execution_count": 7,
     "metadata": {},
     "output_type": "execute_result"
    }
   ],
   "source": [
    "df_listings.columns"
   ]
  },
  {
   "cell_type": "code",
   "execution_count": 8,
   "metadata": {},
   "outputs": [
    {
     "data": {
      "text/plain": [
       "Index(['listing_id', 'id', 'date', 'reviewer_id', 'reviewer_name', 'comments'], dtype='object')"
      ]
     },
     "execution_count": 8,
     "metadata": {},
     "output_type": "execute_result"
    }
   ],
   "source": [
    "df_reviews.columns"
   ]
  },
  {
   "cell_type": "code",
   "execution_count": 13,
   "metadata": {},
   "outputs": [
    {
     "data": {
      "text/html": [
       "<div>\n",
       "<style scoped>\n",
       "    .dataframe tbody tr th:only-of-type {\n",
       "        vertical-align: middle;\n",
       "    }\n",
       "\n",
       "    .dataframe tbody tr th {\n",
       "        vertical-align: top;\n",
       "    }\n",
       "\n",
       "    .dataframe thead th {\n",
       "        text-align: right;\n",
       "    }\n",
       "</style>\n",
       "<table border=\"1\" class=\"dataframe\">\n",
       "  <thead>\n",
       "    <tr style=\"text-align: right;\">\n",
       "      <th></th>\n",
       "      <th>id</th>\n",
       "      <th>listing_url</th>\n",
       "      <th>scrape_id</th>\n",
       "      <th>last_scraped</th>\n",
       "      <th>source</th>\n",
       "      <th>name</th>\n",
       "      <th>description</th>\n",
       "      <th>neighborhood_overview</th>\n",
       "      <th>picture_url</th>\n",
       "      <th>host_id</th>\n",
       "      <th>...</th>\n",
       "      <th>review_scores_communication</th>\n",
       "      <th>review_scores_location</th>\n",
       "      <th>review_scores_value</th>\n",
       "      <th>license</th>\n",
       "      <th>instant_bookable</th>\n",
       "      <th>calculated_host_listings_count</th>\n",
       "      <th>calculated_host_listings_count_entire_homes</th>\n",
       "      <th>calculated_host_listings_count_private_rooms</th>\n",
       "      <th>calculated_host_listings_count_shared_rooms</th>\n",
       "      <th>reviews_per_month</th>\n",
       "    </tr>\n",
       "  </thead>\n",
       "  <tbody>\n",
       "    <tr>\n",
       "      <th>0</th>\n",
       "      <td>92644</td>\n",
       "      <td>https://www.airbnb.com/rooms/92644</td>\n",
       "      <td>20230906022807</td>\n",
       "      <td>2023-09-06</td>\n",
       "      <td>city scrape</td>\n",
       "      <td>Rental unit in Earlsfield · ★4.57 · 1 bedroom ...</td>\n",
       "      <td>&lt;b&gt;The space&lt;/b&gt;&lt;br /&gt;Hi everyone! I have 2 ro...</td>\n",
       "      <td>NaN</td>\n",
       "      <td>https://a0.muscache.com/pictures/715127/85bdb4...</td>\n",
       "      <td>498201</td>\n",
       "      <td>...</td>\n",
       "      <td>4.67</td>\n",
       "      <td>4.53</td>\n",
       "      <td>4.68</td>\n",
       "      <td>NaN</td>\n",
       "      <td>t</td>\n",
       "      <td>1</td>\n",
       "      <td>0</td>\n",
       "      <td>1</td>\n",
       "      <td>0</td>\n",
       "      <td>1.45</td>\n",
       "    </tr>\n",
       "    <tr>\n",
       "      <th>1</th>\n",
       "      <td>93015</td>\n",
       "      <td>https://www.airbnb.com/rooms/93015</td>\n",
       "      <td>20230906022807</td>\n",
       "      <td>2023-09-06</td>\n",
       "      <td>city scrape</td>\n",
       "      <td>Rental unit in Hammersmith · ★4.82 · 2 bedroom...</td>\n",
       "      <td>Gorgeous 2 bed ground floor apartment with per...</td>\n",
       "      <td>A bit of history about the W14 area: &lt;br /&gt;Com...</td>\n",
       "      <td>https://a0.muscache.com/pictures/865937ec-ee56...</td>\n",
       "      <td>499704</td>\n",
       "      <td>...</td>\n",
       "      <td>4.88</td>\n",
       "      <td>4.85</td>\n",
       "      <td>4.74</td>\n",
       "      <td>NaN</td>\n",
       "      <td>f</td>\n",
       "      <td>1</td>\n",
       "      <td>1</td>\n",
       "      <td>0</td>\n",
       "      <td>0</td>\n",
       "      <td>0.27</td>\n",
       "    </tr>\n",
       "  </tbody>\n",
       "</table>\n",
       "<p>2 rows × 75 columns</p>\n",
       "</div>"
      ],
      "text/plain": [
       "      id                         listing_url       scrape_id last_scraped  \\\n",
       "0  92644  https://www.airbnb.com/rooms/92644  20230906022807   2023-09-06   \n",
       "1  93015  https://www.airbnb.com/rooms/93015  20230906022807   2023-09-06   \n",
       "\n",
       "        source                                               name  \\\n",
       "0  city scrape  Rental unit in Earlsfield · ★4.57 · 1 bedroom ...   \n",
       "1  city scrape  Rental unit in Hammersmith · ★4.82 · 2 bedroom...   \n",
       "\n",
       "                                         description  \\\n",
       "0  <b>The space</b><br />Hi everyone! I have 2 ro...   \n",
       "1  Gorgeous 2 bed ground floor apartment with per...   \n",
       "\n",
       "                               neighborhood_overview  \\\n",
       "0                                                NaN   \n",
       "1  A bit of history about the W14 area: <br />Com...   \n",
       "\n",
       "                                         picture_url  host_id  ...  \\\n",
       "0  https://a0.muscache.com/pictures/715127/85bdb4...   498201  ...   \n",
       "1  https://a0.muscache.com/pictures/865937ec-ee56...   499704  ...   \n",
       "\n",
       "  review_scores_communication review_scores_location review_scores_value  \\\n",
       "0                        4.67                   4.53                4.68   \n",
       "1                        4.88                   4.85                4.74   \n",
       "\n",
       "  license instant_bookable calculated_host_listings_count  \\\n",
       "0     NaN                t                              1   \n",
       "1     NaN                f                              1   \n",
       "\n",
       "  calculated_host_listings_count_entire_homes  \\\n",
       "0                                           0   \n",
       "1                                           1   \n",
       "\n",
       "  calculated_host_listings_count_private_rooms  \\\n",
       "0                                            1   \n",
       "1                                            0   \n",
       "\n",
       "  calculated_host_listings_count_shared_rooms reviews_per_month  \n",
       "0                                           0              1.45  \n",
       "1                                           0              0.27  \n",
       "\n",
       "[2 rows x 75 columns]"
      ]
     },
     "execution_count": 13,
     "metadata": {},
     "output_type": "execute_result"
    }
   ],
   "source": [
    "df_listings.head(2)"
   ]
  },
  {
   "cell_type": "markdown",
   "metadata": {},
   "source": [
    "## task5\n"
   ]
  },
  {
   "cell_type": "code",
   "execution_count": 43,
   "metadata": {},
   "outputs": [],
   "source": [
    "def listings_with_best_expected_revenue(df_listings: pd.DataFrame, df_reviews: pd.DataFrame) -> int:\n",
    "    review_score_columns = [\n",
    "    'minimum_nights',\n",
    "    'id',\n",
    "    'price'\n",
    "    ]\n",
    "    df_list_takk_1 = df_listings[review_score_columns].copy()\n",
    "\n",
    "    df_list_takk_1['price'] = df_list_takk_1['price'].replace({'\\$': '', ',': ''}, regex=True).astype(float)\n",
    " \n",
    "    # Filter listings with minimum_nights <= 7\n",
    "    filtered_listings = df_list_takk_1[df_list_takk_1['minimum_nights'] <= 7]\n",
    "\n",
    "    # Calculate the number of reviews for each listing\n",
    "    review_counts = df_reviews['listing_id'].value_counts().reset_index()\n",
    "    review_counts.columns = ['id', 'num_reviews']\n",
    "\n",
    "    # Merge the review counts with the filtered listings\n",
    "    merged_data = pd.merge(filtered_listings, review_counts, on='id', how='left')\n",
    "\n",
    "    # Fill NaN values in num_reviews with 0 (for listings with no reviews)\n",
    "    merged_data['num_reviews'] = merged_data['num_reviews'].fillna(0)\n",
    "\n",
    "    # Calculate expected revenue\n",
    "    # Assuming 60% of guests leave reviews, we can estimate the total number of guests\n",
    "    # Total guests = num_reviews / 0.6\n",
    "    # Expected revenue = Total guests * average nightly price * minimum_nights\n",
    "    merged_data['expected_revenue'] = (merged_data['num_reviews'] / 0.6) * merged_data['price'] * merged_data['minimum_nights']\n",
    "\n",
    "    # Identify the listing with the best expected revenue\n",
    "    best_listing = merged_data.loc[merged_data['expected_revenue'].idxmax()]\n",
    "    #result = best_listing['expected_revenue']\n",
    "    result = best_listing.get('expected_revenue', 0)  # Default to 0 if not found\n",
    "    # # Output the best listing details\n",
    "    # print(\"Best Listing for Revenue:\")\n",
    "    # print(f\"Listing ID: {best_listing['listing_id']}\")\n",
    "    # print(f\"Expected Revenue: ${best_listing['expected_revenue']:.2f}\")\n",
    "    # print(f\"Price per Night: ${best_listing['price']:.2f}\")\n",
    "    # print(f\"Minimum Nights: {best_listing['minimum_nights']}\")\n",
    "    return int(result)\n"
   ]
  },
  {
   "cell_type": "code",
   "execution_count": 44,
   "metadata": {},
   "outputs": [
    {
     "data": {
      "text/plain": [
       "26526060"
      ]
     },
     "execution_count": 44,
     "metadata": {},
     "output_type": "execute_result"
    }
   ],
   "source": [
    "listings_with_best_expected_revenue(df_listings,df_reviews)"
   ]
  },
  {
   "cell_type": "markdown",
   "metadata": {},
   "source": [
    "## task 6"
   ]
  },
  {
   "cell_type": "code",
   "execution_count": 12,
   "metadata": {},
   "outputs": [],
   "source": [
    "def avg_diff_superhost_nonsuperhost_review_score(df_listings: pd.DataFrame, df_reviews: pd.DataFrame) -> float:\n",
    "    review_score_columns = [\n",
    "    'id',\n",
    "    'minimum_nights',\n",
    "    'host_is_superhost',\n",
    "    'review_scores_rating',\n",
    "    'price'\n",
    "    ]\n",
    "    df_list_takk_1 = df_listings[review_score_columns].copy()\n",
    "    df_list_takk_1['price'] = df_list_takk_1['price'].replace({'\\$': '', ',': ''}, regex=True).astype(float)\n",
    "\n",
    "    # Rename a single column\n",
    "    # df_reviews.rename(columns={'listing_id': 'id'}, inplace=True)\n",
    "\n",
    "    # Merge listings with reviews to get review scores\n",
    "    merged_data = pd.merge(df_list_takk_1, df_reviews, on='id', how='left')\n",
    "\n",
    "    # Calculate average review scores for superhosts and normal hosts\n",
    "    superhost_scores = merged_data[merged_data['host_is_superhost'] == 't']['review_scores_rating'].mean()\n",
    "    normalhost_scores = merged_data[merged_data['host_is_superhost'] == 'f']['review_scores_rating'].mean()\n",
    "\n",
    "    # Calculate the average difference\n",
    "    average_difference = superhost_scores - normalhost_scores\n",
    "\n",
    "    # Output the results\n",
    "    # print(\"Average Review Scores:\")\n",
    "    # print(f\"Superhosts: {superhost_scores:.2f}\")\n",
    "    # print(f\"Normal Hosts: {normalhost_scores:.2f}\")\n",
    "    # print(f\"Average Difference: {average_difference:.2f}\")\n",
    "    return average_difference\n",
    "\n"
   ]
  },
  {
   "cell_type": "code",
   "execution_count": 13,
   "metadata": {},
   "outputs": [
    {
     "name": "stdout",
     "output_type": "stream",
     "text": [
      "Average Review Scores:\n",
      "Superhosts: 4.80\n",
      "Normal Hosts: 4.68\n",
      "Average Difference: 0.12\n"
     ]
    },
    {
     "data": {
      "text/plain": [
       "0.12499999999999911"
      ]
     },
     "execution_count": 13,
     "metadata": {},
     "output_type": "execute_result"
    }
   ],
   "source": [
    "avg_diff_superhost_nonsuperhost_review_score(df_listings_test,df_reviews)"
   ]
  },
  {
   "cell_type": "markdown",
   "metadata": {},
   "source": [
    "## task 7"
   ]
  },
  {
   "cell_type": "code",
   "execution_count": 19,
   "metadata": {},
   "outputs": [],
   "source": [
    "def host_attribute_with_second_highest_to_reviews(df_listings: pd.DataFrame, df_reviews: pd.DataFrame) -> str:\n",
    "\n",
    "    # Select relevant columns\n",
    "    columns_of_interest = ['number_of_reviews', 'host_since', 'host_listings_count', \n",
    "                        'host_identity_verified', 'calculated_host_listings_count', \n",
    "                        'host_is_superhost']\n",
    "\n",
    "    # Filter the DataFrame to include only the relevant columns\n",
    "    df = df_listings[columns_of_interest].copy()\n",
    "\n",
    "    #df['price'] = df['price'].replace({'\\\\$': '', ',': ''}, regex=True).astype(float)\n",
    "\n",
    "    # Convert categorical variables to numerical representations\n",
    "    # For 'host_identity_verified' and 'host_is_superhost', we can map them to 1 and 0\n",
    "    df['host_identity_verified'] = df['host_identity_verified'].map({'t': 1, 'f': 0})\n",
    "    df['host_is_superhost'] = df['host_is_superhost'].map({'t': 1, 'f': 0})\n",
    "\n",
    "    # Convert 'host_since' to a numerical value (e.g., number of years since the host started)\n",
    "    df['host_since'] = pd.to_datetime(df['host_since'])\n",
    "    df['host_since'] = (pd.Timestamp.now() - df['host_since']).dt.days / 365  # Convert to years\n",
    "\n",
    "    # Calculate correlations with 'number_of_reviews'\n",
    "    correlations = df.corr()['number_of_reviews'].drop('number_of_reviews')\n",
    "\n",
    "    # Sort correlations and get the second strongest\n",
    "    sorted_correlations = correlations.abs().sort_values(ascending=False)\n",
    "    second_strongest = sorted_correlations.index[1]  # Get the second strongest correlation\n",
    "    # Find the highest correlated attribute\n",
    "    highest_correlated = correlations.idxmax()  # Get the attribute with the highest correlation\n",
    "        # Output the results\n",
    "    # print(\"Correlations with number of reviews:\")\n",
    "    # print(correlations)\n",
    "    # print(f\"\\nThe second strongest correlated host attribute with number of reviews is: '{second_strongest}'\")\n",
    "    return highest_correlated"
   ]
  },
  {
   "cell_type": "code",
   "execution_count": 21,
   "metadata": {},
   "outputs": [
    {
     "data": {
      "text/plain": [
       "'calculated_host_listings_count'"
      ]
     },
     "execution_count": 21,
     "metadata": {},
     "output_type": "execute_result"
    }
   ],
   "source": [
    "host_attribute_with_second_highest_to_reviews(df_listings_test,df_reviews_test)"
   ]
  }
 ],
 "metadata": {
  "kernelspec": {
   "display_name": "Python 3",
   "language": "python",
   "name": "python3"
  },
  "language_info": {
   "codemirror_mode": {
    "name": "ipython",
    "version": 3
   },
   "file_extension": ".py",
   "mimetype": "text/x-python",
   "name": "python",
   "nbconvert_exporter": "python",
   "pygments_lexer": "ipython3",
   "version": "3.11.7"
  }
 },
 "nbformat": 4,
 "nbformat_minor": 2
}
